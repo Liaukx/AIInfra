{
 "cells": [
  {
   "cell_type": "markdown",
   "id": "573fdd08",
   "metadata": {},
   "source": [
    "多模态混合编码器-解码器（MED）"
   ]
  },
  {
   "cell_type": "code",
   "execution_count": null,
   "id": "261b509b",
   "metadata": {},
   "outputs": [],
   "source": [
    "import torch\n",
    "import torch.nn as nn\n",
    "from transformers import BertModel, BertConfig, ViTModel\n",
    "\n",
    "class BLIPModel(nn.Module):\n",
    "    def __init__(self, config):\n",
    "        super().__init__()\n",
    "        self.config = config \n",
    "        # 图像编码器(ViT)\n",
    "        self.vision_encoder = ViTModel(config.vit_config)\n",
    "        # 文本编码器(BERT)\n",
    "        self.text_encoder = BertModel(config.bert_config)\n",
    "        # 文本解码器(带跨注意力的因果 BERT)\n",
    "        decoder_config = BertConfig(**config.text_config.to_dict())\n",
    "        decoder_config.is_decoder = True\n",
    "        decoder_config.add_cross_attention = True\n",
    "        self.text_decoder = BertModel(decoder_config)\n",
    "\n",
    "        # 共享参数策略(除自注意力层外)\n",
    "        self.__tie_weights_except_attn()\n",
    "    \n",
    "        # 投影层(用于对比学习)\n",
    "        self.vision_proj = nn.Linear(config.vision_config.hidden_size, 256)\n",
    "        self.text_proj = nn.Linear(config.text_config.hidden_size, 256)\n",
    "\n",
    "        # ITM 分类头\n",
    "        self.itm_head = nn.Linear(config.text_config.hidden_size * 2, 2)\n",
    "\n",
    "    def _tie_weights_except_attn(self):\n",
    "        \"\"\"共享编码器/解码器的非注意力层参数\"\"\"\n",
    "        # 共享嵌入层\n",
    "        self.text_decoder.embeddings = self.text_encoder.embeddings\n",
    "\n",
    "        # 共享 FFN 层（中间层和输出层）\n",
    "        for i in range(self.config.num_layers):\n",
    "             self.text_decoder.encoder.layer[i].intermediate = self.text_encoder.encoder.layer[i].intermediate\n",
    "             self.text_decoder.encoder.layer[i].output = self.text_encoder.encoder.layer[i].output\n"
   ]
  }
 ],
 "metadata": {
  "kernelspec": {
   "display_name": "Python 3",
   "language": "python",
   "name": "python3"
  },
  "language_info": {
   "codemirror_mode": {
    "name": "ipython",
    "version": 3
   },
   "file_extension": ".py",
   "mimetype": "text/x-python",
   "name": "python",
   "nbconvert_exporter": "python",
   "pygments_lexer": "ipython3",
   "version": "3.13.4"
  }
 },
 "nbformat": 4,
 "nbformat_minor": 5
}
