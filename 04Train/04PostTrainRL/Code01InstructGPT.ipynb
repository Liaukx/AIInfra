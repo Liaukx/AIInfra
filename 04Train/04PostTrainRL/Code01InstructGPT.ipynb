{
 "cells": [
  {
   "cell_type": "markdown",
   "id": "c1a13519",
   "metadata": {},
   "source": [
    "<!--Copyright © ZOMI 适用于[License](https://github.com/Infrasys-AI/AIInfra)版权许可-->\n",
    "\n",
    "# CODE 01: 经典 InstructGPT 复现\n",
    "\n",
    "> Author by: 张玉霖\n",
    "\n",
    "本实验将使用简化代码复现 InstructGPT 的核心训练流程：监督微调(SFT)→奖励模型训练(RM)→PPO 强化学习优化。通过这个实验，我们可以深入理解如何通过人类反馈强化学习将人类偏好传递给语言模型。\n",
    "\n",
    "实验以 **教学用最小实现（toy）** 的方式演示 InstructGPT 的训练三阶段：**监督微调 (SFT)** → **奖励模型 (RM)** → **PPO 强化学习**。我们不追求大模型效果，而是聚焦**关键接口与损失函数**，用小数据集展示 RLHF 的核心思路：**先通过 SFT 学会跟随指令，再用奖励模型评分，最后用 PPO 让策略在不偏离过远的前提下朝更高奖励更新**。\n",
    "\n",
    "\n",
    "## 1. 环境设置\n",
    "\n",
    "首先安装必要的依赖库："
   ]
  },
  {
   "cell_type": "code",
   "execution_count": null,
   "id": "bb8a363a",
   "metadata": {},
   "outputs": [],
   "source": [
    "%pip install torch numpy tqdm matplotlib"
   ]
  },
  {
   "cell_type": "markdown",
   "id": "d84e0a29",
   "metadata": {},
   "source": [
    "现在导入实验所需的模块："
   ]
  },
  {
   "cell_type": "code",
   "execution_count": 1,
   "id": "2ff28328",
   "metadata": {},
   "outputs": [
    {
     "name": "stdout",
     "output_type": "stream",
     "text": [
      "Using device: cuda\n"
     ]
    }
   ],
   "source": [
    "import math\n",
    "from copy import deepcopy\n",
    "\n",
    "import torch\n",
    "import torch.nn as nn\n",
    "import torch.optim as optim\n",
    "import torch.nn.functional as F\n",
    "\n",
    "from torch.utils.data import Dataset, DataLoader\n",
    "from tqdm import tqdm\n",
    "\n",
    "device = torch.device(\"cuda\" if torch.cuda.is_available() else \"cpu\")\n",
    "print(\"Using device:\", device)"
   ]
  },
  {
   "cell_type": "markdown",
   "id": "6f7f162e",
   "metadata": {},
   "source": [
    "## 2. Stage1：监督微调 SFT\n",
    "\n",
    "监督微调阶段使用人类标注的指令-回答对来微调预训练语言模型，使其初步学会遵循指令。\n",
    "\n",
    "在 SFT 阶段，我们使用标准的监督学习方式，使用人类标注的高质量问答对数据来微调预训练语言模型。模型的训练目标是最大化在给定指令情况下，生成人类期望回答的似然概率。\n",
    "\n",
    "数学上，这个目标可以表示为：\n",
    "\n",
    "$$ \\mathcal{L}_{SFT} = -\\mathbb{E}_{(x,y)\\sim D}[\\log P_{\\theta}(y|x)] $$\n",
    "\n",
    "其中 $x$ 是指令，$y$ 是人类标注的回答，$\\theta$ 是模型参数。\n",
    "\n",
    "### 2.1 数据准备\n",
    "\n",
    "我们创建一个简化的指令-回答数据集，并实现一个简单的文本编码器："
   ]
  },
  {
   "cell_type": "code",
   "execution_count": 2,
   "id": "19772221",
   "metadata": {},
   "outputs": [],
   "source": [
    "class SimpleTokenizer:\n",
    "    \"\"\"字节级分词器，用于将文本转换为模型可处理的 token 序列。\n",
    "    \n",
    "    该分词器将文本编码为 UTF-8 字节序列，并使用特殊标记组织输入格式。\n",
    "    支持中文、英文等各种字符，采用[BOS]指令[SEP]回答[EOS][PAD...]模板结构。\n",
    "    \n",
    "    Attributes:\n",
    "        PAD (int): 填充标记 ID，值为 0\n",
    "        BOS (int): 开始标记 ID，值为 1\n",
    "        SEP (int): 分隔符标记 ID，值为 2\n",
    "        EOS (int): 结束标记 ID，值为 3\n",
    "        max_len (int): 最大序列长度\n",
    "        vocab_size (int): 词汇表大小（256 个 UTF-8 字节 + 4 个特殊标记）\n",
    "    \"\"\"\n",
    "    PAD, BOS, SEP, EOS = 0, 1, 2, 3  # 特殊符号固定 0~3\n",
    "\n",
    "    def __init__(self, max_len: int = 128):\n",
    "        \"\"\"初始化 ByteTokenizer。\n",
    "        \n",
    "        Args:\n",
    "            max_len (int): 序列最大长度，默认为 128\n",
    "        \"\"\"\n",
    "        self.max_len = max_len\n",
    "        self.vocab_size = 256 + 4\n",
    "\n",
    "    def _to_bytes(self, text: str):\n",
    "        \"\"\"将文本转换为 UTF-8 字节序列。\n",
    "        \n",
    "        Args:\n",
    "            text (str): 输入文本\n",
    "            \n",
    "        Returns:\n",
    "            list: UTF-8 字节值列表\n",
    "        \"\"\"\n",
    "        return list(text.encode(\"utf-8\", errors=\"replace\"))\n",
    "\n",
    "    def encode_dialog(self, instr: str, resp: str):\n",
    "        \"\"\"将指令-回答对话编码为模型输入格式。\n",
    "        \n",
    "        使用[BOS]指令[SEP]回答[EOS][PAD...]模板编码对话，\n",
    "        并生成相应的注意力掩码和训练标签。\n",
    "        \n",
    "        Args:\n",
    "            instr (str): 指令文本\n",
    "            resp (str): 回答文本\n",
    "            \n",
    "        Returns:\n",
    "            dict: 包含以下键值的字典：\n",
    "                - input_ids (torch.Tensor): 输入 token ID 序列，形状[T]\n",
    "                - attention_mask (torch.Tensor): 注意力掩码，形状[T]\n",
    "                - labels (torch.Tensor): 训练标签，形状[T]，非回答段为-100\n",
    "        \"\"\"\n",
    "        # 将指令和回答文本转换为字节序列\n",
    "        instr_bytes = self._to_bytes(f\"Instruct:{instr}\")\n",
    "\n",
    "        # 将 Answer:前缀去掉，只保留纯回答内容\n",
    "        # 因为根据实验发现，加上 Answer:前缀会导致模型生成时重复输出 Answer\n",
    "        # resp_bytes  = self._to_bytes(f\"Answer:{resp}\")\n",
    "        resp_bytes  = self._to_bytes(f\"{resp}\")\n",
    "\n",
    "        # 构建完整的 token ID 序列\n",
    "        ids = [self.BOS]    # 开始标记\n",
    "        # 指令部分：每个字节偏移+4 以避开特殊符号\n",
    "        ids += [b + 4 for b in instr_bytes]\n",
    "        ids += [self.SEP]   # 分隔符，用于分隔指令和回答\n",
    "        # 回答部分：每个字节偏移+4 以避开特殊符号\n",
    "        ids += [b + 4 for b in resp_bytes]\n",
    "        ids += [self.EOS]   # 结束标记\n",
    "\n",
    "        # 截断处理：如果序列超过最大长度，保留 EOS 在末端\n",
    "        if len(ids) > self.max_len:\n",
    "            ids = ids[: self.max_len - 1] + [self.EOS]\n",
    "\n",
    "        # 构建注意力掩码：有效位置为 1，填充位置为 0\n",
    "        attn = [1] * len(ids)\n",
    "\n",
    "        # 填充处理：如果序列长度不足最大长度，用 PAD 填充\n",
    "        if len(ids) < self.max_len:\n",
    "            pad = self.max_len - len(ids)\n",
    "            ids += [self.PAD] * pad\n",
    "            attn += [0] * pad\n",
    "        \n",
    "        input_ids = torch.tensor(ids, dtype=torch.long)\n",
    "        attention_mask = torch.tensor(attn, dtype=torch.long)\n",
    "\n",
    "        # 构建语言模型训练标签（左移一位）\n",
    "        labels = input_ids.clone()\n",
    "        labels[:-1] = input_ids[1:]\n",
    "        labels[-1] = self.EOS\n",
    "\n",
    "        # 找到 SEP 标记的位置，用于确定回答的开始位置\n",
    "        sep_positions = (input_ids == self.SEP).nonzero(as_tuple=True)[0]\n",
    "        sep_idx = int(sep_positions[0].item()) if len(sep_positions) > 0 else 0\n",
    "\n",
    "        # 屏蔽不需要计算损失的位置：\n",
    "        # 1. 指令段和 SEP 标记之前的部分设置为-100\n",
    "        labels[: sep_idx + 1] = -100               \n",
    "        # 2. PAD 填充部分设置为-100\n",
    "        labels[input_ids == self.PAD] = -100       \n",
    "\n",
    "        return {\n",
    "            \"input_ids\": input_ids,           \n",
    "            \"attention_mask\": attention_mask, \n",
    "            \"labels\": labels,                 \n",
    "        }\n"
   ]
  },
  {
   "cell_type": "code",
   "execution_count": 3,
   "id": "67af0ae9",
   "metadata": {},
   "outputs": [
    {
     "data": {
      "text/plain": [
       "({'input_ids': tensor([  1,  77, 114, 119, 120, 118, 121, 103, 120,  62,  91, 108, 101, 120,\n",
       "           36, 109, 119,  36, 113, 101, 103, 108, 109, 114, 105,  36, 112, 105,\n",
       "          101, 118, 114, 109, 114, 107,  67,   2,  81, 101, 103, 108, 109, 114,\n",
       "          105,  36, 112, 105, 101, 118, 114, 109, 114, 107,  36, 109, 119,  36,\n",
       "          120, 105, 103, 108, 114, 115, 112, 115, 107, 125,  36, 120, 108, 101,\n",
       "          120,  36, 105, 114, 101, 102, 112, 105, 119,  36, 103, 115, 113, 116,\n",
       "          121, 120, 105, 118, 119,  36, 120, 115,  36, 112, 105, 101, 118, 114,\n",
       "           36, 106, 118, 115, 113,  36, 104, 101, 120, 101,  50,   3,   0,   0,\n",
       "            0,   0,   0,   0,   0,   0,   0,   0,   0,   0,   0,   0,   0,   0,\n",
       "            0,   0]),\n",
       "  'attention_mask': tensor([1, 1, 1, 1, 1, 1, 1, 1, 1, 1, 1, 1, 1, 1, 1, 1, 1, 1, 1, 1, 1, 1, 1, 1,\n",
       "          1, 1, 1, 1, 1, 1, 1, 1, 1, 1, 1, 1, 1, 1, 1, 1, 1, 1, 1, 1, 1, 1, 1, 1,\n",
       "          1, 1, 1, 1, 1, 1, 1, 1, 1, 1, 1, 1, 1, 1, 1, 1, 1, 1, 1, 1, 1, 1, 1, 1,\n",
       "          1, 1, 1, 1, 1, 1, 1, 1, 1, 1, 1, 1, 1, 1, 1, 1, 1, 1, 1, 1, 1, 1, 1, 1,\n",
       "          1, 1, 1, 1, 1, 1, 1, 1, 1, 1, 1, 1, 1, 1, 0, 0, 0, 0, 0, 0, 0, 0, 0, 0,\n",
       "          0, 0, 0, 0, 0, 0, 0, 0]),\n",
       "  'labels': tensor([-100, -100, -100, -100, -100, -100, -100, -100, -100, -100, -100, -100,\n",
       "          -100, -100, -100, -100, -100, -100, -100, -100, -100, -100, -100, -100,\n",
       "          -100, -100, -100, -100, -100, -100, -100, -100, -100, -100, -100, -100,\n",
       "           101,  103,  108,  109,  114,  105,   36,  112,  105,  101,  118,  114,\n",
       "           109,  114,  107,   36,  109,  119,   36,  120,  105,  103,  108,  114,\n",
       "           115,  112,  115,  107,  125,   36,  120,  108,  101,  120,   36,  105,\n",
       "           114,  101,  102,  112,  105,  119,   36,  103,  115,  113,  116,  121,\n",
       "           120,  105,  118,  119,   36,  120,  115,   36,  112,  105,  101,  118,\n",
       "           114,   36,  106,  118,  115,  113,   36,  104,  101,  120,  101,   50,\n",
       "             3,    0, -100, -100, -100, -100, -100, -100, -100, -100, -100, -100,\n",
       "          -100, -100, -100, -100, -100, -100, -100, -100])},\n",
       " torch.Size([128]),\n",
       " torch.Size([128]),\n",
       " torch.Size([128]))"
      ]
     },
     "execution_count": 3,
     "metadata": {},
     "output_type": "execute_result"
    }
   ],
   "source": [
    "## 测试编码的效果\n",
    "tok = SimpleTokenizer(max_len=128)\n",
    "pack = tok.encode_dialog(\"What is machine learning?\", \"Machine learning is technology that enables computers to learn from data.\")\n",
    "pack, pack[\"input_ids\"].shape, pack[\"attention_mask\"].shape, pack[\"labels\"].shape"
   ]
  },
  {
   "cell_type": "code",
   "execution_count": 4,
   "id": "e4768e13",
   "metadata": {},
   "outputs": [
    {
     "data": {
      "text/plain": [
       "(5, 260)"
      ]
     },
     "execution_count": 4,
     "metadata": {},
     "output_type": "execute_result"
    }
   ],
   "source": [
    "# SFT Dataset & DataLoader\n",
    "class SFTDataset(Dataset):\n",
    "    def __init__(self, pairs, tokenizer: SimpleTokenizer):\n",
    "        self.pairs = pairs\n",
    "        self.tok = tokenizer\n",
    "\n",
    "    def __len__(self):\n",
    "        return len(self.pairs)\n",
    "\n",
    "    def __getitem__(self, idx):\n",
    "        instr, resp = self.pairs[idx]\n",
    "        return self.tok.encode_dialog(instr, resp)\n",
    "\n",
    "def build_sft_dataloader(pairs, tokenizer: SimpleTokenizer, batch_size=4, shuffle=True):\n",
    "    ds = SFTDataset(pairs, tokenizer)\n",
    "    return DataLoader(ds, batch_size=batch_size, shuffle=shuffle)\n",
    "\n",
    "# def create_sft_dataset():\n",
    "#     return [\n",
    "#         (\"什么是 AI？\", \"AI 是能模拟人类智能的技术。\"),\n",
    "#         (\"1+1 等于几？\", \"1+1 等于 2。\"),\n",
    "#         (\"写一句问候语\", \"你好，很高兴见到你！\"),\n",
    "#         (\"什么是机器学习？\", \"机器学习是让计算机从数据中学习的技术。\"),\n",
    "#         (\"如何保护环境？\", \"减少浪费，节约能源，绿色出行。\"),\n",
    "#     ]\n",
    "def create_sft_dataset():\n",
    "    return [\n",
    "        (\"What is AI?\", \"AI is technology that can simulate human intelligence.\"),\n",
    "        (\"What is 1+1?\", \"1+1 equals 2.\"),\n",
    "        (\"Write a greeting\", \"Hello, nice to meet you!\"),\n",
    "        (\"What is machine learning?\", \"Machine learning is technology that enables computers to learn from data.\"),\n",
    "        (\"How to protect the environment?\", \"Reduce waste, save energy, and travel green.\")\n",
    "    ]\n",
    "\n",
    "# 初始化 SFT 数据\n",
    "tokenizer = SimpleTokenizer(max_len=128)\n",
    "pairs = create_sft_dataset()\n",
    "sft_loader = build_sft_dataloader(pairs, tokenizer, batch_size=2, shuffle=True)\n",
    "\n",
    "len(pairs), tokenizer.vocab_size\n"
   ]
  },
  {
   "cell_type": "markdown",
   "id": "f3c73f3b",
   "metadata": {},
   "source": [
    "这里创建了一个简单的字节级分词器`SimpleTokenizer`，将文本编码为 UTF-8 字节并使用 [BOS]…[SEP]…[EOS] 模板；SFTDataset 仅在回答区间计算交叉熵，这是条件语言建模的标准做法。\n",
    "\n",
    "### 2.2 模型定义\n",
    "\n",
    "定义一个简化的 Transformer 模型，包含必要的位置编码："
   ]
  },
  {
   "cell_type": "code",
   "execution_count": 5,
   "id": "87fad4ec",
   "metadata": {},
   "outputs": [],
   "source": [
    "class SimpleTransformerLM(nn.Module):\n",
    "    \"\"\"Decoder-only（用 TransformerEncoder + 因果掩码模拟）语言模型。\"\"\"\n",
    "    def __init__(self, vocab_size, max_len=128, d_model=128, nhead=4, num_layers=4,\n",
    "                 dropout=0.1, tie_weights=True, pad_id=0):\n",
    "        super().__init__()\n",
    "        self.vocab_size = vocab_size\n",
    "        self.max_len = max_len\n",
    "        self.d_model = d_model\n",
    "\n",
    "        # 指定 padding_idx，避免 PAD embedding 被更新\n",
    "        self.embed = nn.Embedding(vocab_size, d_model, padding_idx=pad_id)\n",
    "        self.pos_embed = nn.Embedding(max_len, d_model)\n",
    "\n",
    "        layer = nn.TransformerEncoderLayer(\n",
    "            d_model=d_model, nhead=nhead, dropout=dropout, batch_first=True\n",
    "        )\n",
    "        self.transformer = nn.TransformerEncoder(layer, num_layers=num_layers)\n",
    "\n",
    "        self.lm_head = nn.Linear(d_model, vocab_size, bias=False)\n",
    "        if tie_weights:\n",
    "            self.lm_head.weight = self.embed.weight\n",
    "\n",
    "        self.dropout = nn.Dropout(dropout)\n",
    "        self.ln = nn.LayerNorm(d_model)\n",
    "\n",
    "        # 因果掩码：上三角 True 表示被遮蔽（看不到未来）\n",
    "        self.register_buffer(\n",
    "            \"causal_mask\",\n",
    "            torch.triu(torch.ones(max_len, max_len), diagonal=1).bool()\n",
    "        )\n",
    "\n",
    "        nn.init.normal_(self.embed.weight, std=0.02)\n",
    "        nn.init.normal_(self.pos_embed.weight, std=0.02)\n",
    "        if not tie_weights:\n",
    "            nn.init.normal_(self.lm_head.weight, std=0.02)\n",
    "\n",
    "    def forward(self, input_ids, attention_mask=None):\n",
    "        B, T = input_ids.shape\n",
    "        if T > self.max_len:\n",
    "            raise ValueError(f\"seq_len {T} > max_len {self.max_len}\")\n",
    "\n",
    "        tok = self.embed(input_ids) * math.sqrt(self.d_model)\n",
    "        pos_ids = torch.arange(T, device=input_ids.device, dtype=torch.long)\\\n",
    "                       .unsqueeze(0).expand(B, T)\n",
    "        pos = self.pos_embed(pos_ids)\n",
    "        x = self.ln(self.dropout(tok + pos))\n",
    "\n",
    "        cmask = self.causal_mask[:T, :T]  # [T,T] True=mask\n",
    "        kpmask = (~attention_mask.bool()) if attention_mask is not None else None  # [B,T] True=pad\n",
    "\n",
    "        h = self.transformer(x, mask=cmask, src_key_padding_mask=kpmask)  # [B,T,H]\n",
    "        logits = self.lm_head(h)  # [B,T,V]\n",
    "        return logits\n"
   ]
  },
  {
   "cell_type": "markdown",
   "id": "1d0aa9dc",
   "metadata": {},
   "source": [
    "简化 Transformer 模型包含嵌入层、位置编码和 Transformer 编码器。我们使用了正弦/余弦位置编码，位置编码让模型能够理解文本中的顺序信息，是 Transformer 架构的关键组件。\n",
    "\n",
    "### 2.3 SFT 训练"
   ]
  },
  {
   "cell_type": "code",
   "execution_count": 12,
   "id": "e602785e",
   "metadata": {},
   "outputs": [
    {
     "name": "stdout",
     "output_type": "stream",
     "text": [
      "开始 SFT 训练阶段…\n"
     ]
    },
    {
     "name": "stderr",
     "output_type": "stream",
     "text": [
      "[SFT] Epoch 1/30: 100%|██████████| 3/3 [00:00<00:00, 56.04it/s, loss=5.18]\n"
     ]
    },
    {
     "name": "stdout",
     "output_type": "stream",
     "text": [
      "[SFT] Epoch 1 平均损失: 5.2533\n"
     ]
    },
    {
     "name": "stderr",
     "output_type": "stream",
     "text": [
      "[SFT] Epoch 2/30: 100%|██████████| 3/3 [00:00<00:00, 54.54it/s, loss=4.47]\n"
     ]
    },
    {
     "name": "stdout",
     "output_type": "stream",
     "text": [
      "[SFT] Epoch 2 平均损失: 4.5989\n"
     ]
    },
    {
     "name": "stderr",
     "output_type": "stream",
     "text": [
      "[SFT] Epoch 3/30: 100%|██████████| 3/3 [00:00<00:00, 55.91it/s, loss=4.05]\n"
     ]
    },
    {
     "name": "stdout",
     "output_type": "stream",
     "text": [
      "[SFT] Epoch 3 平均损失: 4.2027\n"
     ]
    },
    {
     "name": "stderr",
     "output_type": "stream",
     "text": [
      "[SFT] Epoch 4/30: 100%|██████████| 3/3 [00:00<00:00, 65.22it/s, loss=3.69]\n"
     ]
    },
    {
     "name": "stdout",
     "output_type": "stream",
     "text": [
      "[SFT] Epoch 4 平均损失: 3.8092\n"
     ]
    },
    {
     "name": "stderr",
     "output_type": "stream",
     "text": [
      "[SFT] Epoch 5/30: 100%|██████████| 3/3 [00:00<00:00, 65.22it/s, loss=3.43]\n"
     ]
    },
    {
     "name": "stdout",
     "output_type": "stream",
     "text": [
      "[SFT] Epoch 5 平均损失: 3.5364\n"
     ]
    },
    {
     "name": "stderr",
     "output_type": "stream",
     "text": [
      "[SFT] Epoch 6/30: 100%|██████████| 3/3 [00:00<00:00, 65.22it/s, loss=3.23]\n"
     ]
    },
    {
     "name": "stdout",
     "output_type": "stream",
     "text": [
      "[SFT] Epoch 6 平均损失: 3.3203\n"
     ]
    },
    {
     "name": "stderr",
     "output_type": "stream",
     "text": [
      "[SFT] Epoch 7/30: 100%|██████████| 3/3 [00:00<00:00, 64.49it/s, loss=3.21]\n"
     ]
    },
    {
     "name": "stdout",
     "output_type": "stream",
     "text": [
      "[SFT] Epoch 7 平均损失: 3.2076\n"
     ]
    },
    {
     "name": "stderr",
     "output_type": "stream",
     "text": [
      "[SFT] Epoch 8/30: 100%|██████████| 3/3 [00:00<00:00, 107.14it/s, loss=3.59]\n"
     ]
    },
    {
     "name": "stdout",
     "output_type": "stream",
     "text": [
      "[SFT] Epoch 8 平均损失: 3.2397\n"
     ]
    },
    {
     "name": "stderr",
     "output_type": "stream",
     "text": [
      "[SFT] Epoch 9/30: 100%|██████████| 3/3 [00:00<00:00, 107.14it/s, loss=2.87]\n"
     ]
    },
    {
     "name": "stdout",
     "output_type": "stream",
     "text": [
      "[SFT] Epoch 9 平均损失: 3.0166\n"
     ]
    },
    {
     "name": "stderr",
     "output_type": "stream",
     "text": [
      "[SFT] Epoch 10/30: 100%|██████████| 3/3 [00:00<00:00, 111.11it/s, loss=2.74]\n"
     ]
    },
    {
     "name": "stdout",
     "output_type": "stream",
     "text": [
      "[SFT] Epoch 10 平均损失: 2.8621\n"
     ]
    },
    {
     "name": "stderr",
     "output_type": "stream",
     "text": [
      "[SFT] Epoch 11/30: 100%|██████████| 3/3 [00:00<00:00, 100.01it/s, loss=2.61]\n"
     ]
    },
    {
     "name": "stdout",
     "output_type": "stream",
     "text": [
      "[SFT] Epoch 11 平均损失: 2.7614\n"
     ]
    },
    {
     "name": "stderr",
     "output_type": "stream",
     "text": [
      "[SFT] Epoch 12/30: 100%|██████████| 3/3 [00:00<00:00, 93.75it/s, loss=2.72]\n"
     ]
    },
    {
     "name": "stdout",
     "output_type": "stream",
     "text": [
      "[SFT] Epoch 12 平均损失: 2.6557\n"
     ]
    },
    {
     "name": "stderr",
     "output_type": "stream",
     "text": [
      "[SFT] Epoch 13/30: 100%|██████████| 3/3 [00:00<00:00, 93.75it/s, loss=2.77]\n"
     ]
    },
    {
     "name": "stdout",
     "output_type": "stream",
     "text": [
      "[SFT] Epoch 13 平均损失: 2.6135\n"
     ]
    },
    {
     "name": "stderr",
     "output_type": "stream",
     "text": [
      "[SFT] Epoch 14/30: 100%|██████████| 3/3 [00:00<00:00, 96.78it/s, loss=2.34]\n"
     ]
    },
    {
     "name": "stdout",
     "output_type": "stream",
     "text": [
      "[SFT] Epoch 14 平均损失: 2.4779\n"
     ]
    },
    {
     "name": "stderr",
     "output_type": "stream",
     "text": [
      "[SFT] Epoch 15/30: 100%|██████████| 3/3 [00:00<00:00, 96.77it/s, loss=2.4]\n"
     ]
    },
    {
     "name": "stdout",
     "output_type": "stream",
     "text": [
      "[SFT] Epoch 15 平均损失: 2.4282\n"
     ]
    },
    {
     "name": "stderr",
     "output_type": "stream",
     "text": [
      "[SFT] Epoch 16/30: 100%|██████████| 3/3 [00:00<00:00, 95.08it/s, loss=2.34]\n"
     ]
    },
    {
     "name": "stdout",
     "output_type": "stream",
     "text": [
      "[SFT] Epoch 16 平均损失: 2.3240\n"
     ]
    },
    {
     "name": "stderr",
     "output_type": "stream",
     "text": [
      "[SFT] Epoch 17/30: 100%|██████████| 3/3 [00:00<00:00, 86.75it/s, loss=2.18]\n"
     ]
    },
    {
     "name": "stdout",
     "output_type": "stream",
     "text": [
      "[SFT] Epoch 17 平均损失: 2.2388\n"
     ]
    },
    {
     "name": "stderr",
     "output_type": "stream",
     "text": [
      "[SFT] Epoch 18/30: 100%|██████████| 3/3 [00:00<00:00, 76.92it/s, loss=2.13]\n"
     ]
    },
    {
     "name": "stdout",
     "output_type": "stream",
     "text": [
      "[SFT] Epoch 18 平均损失: 2.1665\n"
     ]
    },
    {
     "name": "stderr",
     "output_type": "stream",
     "text": [
      "[SFT] Epoch 19/30: 100%|██████████| 3/3 [00:00<00:00, 107.14it/s, loss=1.91]\n"
     ]
    },
    {
     "name": "stdout",
     "output_type": "stream",
     "text": [
      "[SFT] Epoch 19 平均损失: 2.0518\n"
     ]
    },
    {
     "name": "stderr",
     "output_type": "stream",
     "text": [
      "[SFT] Epoch 20/30: 100%|██████████| 3/3 [00:00<00:00, 100.00it/s, loss=2.19]\n"
     ]
    },
    {
     "name": "stdout",
     "output_type": "stream",
     "text": [
      "[SFT] Epoch 20 平均损失: 2.0638\n"
     ]
    },
    {
     "name": "stderr",
     "output_type": "stream",
     "text": [
      "[SFT] Epoch 21/30: 100%|██████████| 3/3 [00:00<00:00, 103.44it/s, loss=1.61]\n"
     ]
    },
    {
     "name": "stdout",
     "output_type": "stream",
     "text": [
      "[SFT] Epoch 21 平均损失: 1.8580\n"
     ]
    },
    {
     "name": "stderr",
     "output_type": "stream",
     "text": [
      "[SFT] Epoch 22/30: 100%|██████████| 3/3 [00:00<00:00, 100.00it/s, loss=1.95]\n"
     ]
    },
    {
     "name": "stdout",
     "output_type": "stream",
     "text": [
      "[SFT] Epoch 22 平均损失: 1.8680\n"
     ]
    },
    {
     "name": "stderr",
     "output_type": "stream",
     "text": [
      "[SFT] Epoch 23/30: 100%|██████████| 3/3 [00:00<00:00, 103.44it/s, loss=1.97]\n"
     ]
    },
    {
     "name": "stdout",
     "output_type": "stream",
     "text": [
      "[SFT] Epoch 23 平均损失: 1.7941\n"
     ]
    },
    {
     "name": "stderr",
     "output_type": "stream",
     "text": [
      "[SFT] Epoch 24/30: 100%|██████████| 3/3 [00:00<00:00, 100.00it/s, loss=1.83]\n"
     ]
    },
    {
     "name": "stdout",
     "output_type": "stream",
     "text": [
      "[SFT] Epoch 24 平均损失: 1.7444\n"
     ]
    },
    {
     "name": "stderr",
     "output_type": "stream",
     "text": [
      "[SFT] Epoch 25/30: 100%|██████████| 3/3 [00:00<00:00, 103.44it/s, loss=1.75]\n"
     ]
    },
    {
     "name": "stdout",
     "output_type": "stream",
     "text": [
      "[SFT] Epoch 25 平均损失: 1.6805\n"
     ]
    },
    {
     "name": "stderr",
     "output_type": "stream",
     "text": [
      "[SFT] Epoch 26/30: 100%|██████████| 3/3 [00:00<00:00, 93.75it/s, loss=1.67]\n"
     ]
    },
    {
     "name": "stdout",
     "output_type": "stream",
     "text": [
      "[SFT] Epoch 26 平均损失: 1.6553\n"
     ]
    },
    {
     "name": "stderr",
     "output_type": "stream",
     "text": [
      "[SFT] Epoch 27/30: 100%|██████████| 3/3 [00:00<00:00, 93.75it/s, loss=1.03]\n"
     ]
    },
    {
     "name": "stdout",
     "output_type": "stream",
     "text": [
      "[SFT] Epoch 27 平均损失: 1.4357\n"
     ]
    },
    {
     "name": "stderr",
     "output_type": "stream",
     "text": [
      "[SFT] Epoch 28/30: 100%|██████████| 3/3 [00:00<00:00, 85.71it/s, loss=1.89]\n"
     ]
    },
    {
     "name": "stdout",
     "output_type": "stream",
     "text": [
      "[SFT] Epoch 28 平均损失: 1.6636\n"
     ]
    },
    {
     "name": "stderr",
     "output_type": "stream",
     "text": [
      "[SFT] Epoch 29/30: 100%|██████████| 3/3 [00:00<00:00, 100.01it/s, loss=1.32]\n"
     ]
    },
    {
     "name": "stdout",
     "output_type": "stream",
     "text": [
      "[SFT] Epoch 29 平均损失: 1.4517\n"
     ]
    },
    {
     "name": "stderr",
     "output_type": "stream",
     "text": [
      "[SFT] Epoch 30/30: 100%|██████████| 3/3 [00:00<00:00, 100.00it/s, loss=1.58]"
     ]
    },
    {
     "name": "stdout",
     "output_type": "stream",
     "text": [
      "[SFT] Epoch 30 平均损失: 1.5323\n"
     ]
    },
    {
     "name": "stderr",
     "output_type": "stream",
     "text": [
      "\n"
     ]
    }
   ],
   "source": [
    "model = SimpleTransformerLM(\n",
    "    vocab_size=tokenizer.vocab_size,\n",
    "    max_len=128,\n",
    "    d_model=128,\n",
    "    nhead=4,\n",
    "    num_layers=4,\n",
    "    dropout=0.1,\n",
    "    tie_weights=True,\n",
    "    pad_id=tokenizer.PAD,   \n",
    ").to(device)\n",
    "\n",
    "sft_criterion = nn.CrossEntropyLoss(ignore_index=-100)  # 只在回答段计算\n",
    "sft_optimizer = optim.Adam(model.parameters(), lr=1e-3)\n",
    "\n",
    "def train_sft(model, dataloader, epochs=30, grad_clip=1.0):\n",
    "    model.train()\n",
    "    losses = []\n",
    "    for ep in range(epochs):\n",
    "        ep_loss = 0.0\n",
    "        pbar = tqdm(dataloader, desc=f\"[SFT] Epoch {ep+1}/{epochs}\")\n",
    "        for batch in pbar:\n",
    "            input_ids = batch[\"input_ids\"].to(device)\n",
    "            attn_mask = batch[\"attention_mask\"].to(device)\n",
    "            labels    = batch[\"labels\"].to(device)\n",
    "\n",
    "            sft_optimizer.zero_grad()\n",
    "            logits = model(input_ids, attention_mask=attn_mask)  # [B,T,V]\n",
    "            loss = sft_criterion(\n",
    "                logits.view(-1, model.vocab_size),\n",
    "                labels.view(-1)\n",
    "            )\n",
    "            loss.backward()\n",
    "            if grad_clip is not None:\n",
    "                torch.nn.utils.clip_grad_norm_(model.parameters(), grad_clip)\n",
    "            sft_optimizer.step()\n",
    "\n",
    "            ep_loss += float(loss.item())\n",
    "            pbar.set_postfix(loss=float(loss.item()))\n",
    "        avg = ep_loss / max(1, len(dataloader))\n",
    "        losses.append(avg)\n",
    "        print(f\"[SFT] Epoch {ep+1} 平均损失: {avg:.4f}\")\n",
    "    return losses\n",
    "\n",
    "print(\"开始 SFT 训练阶段…\")\n",
    "sft_losses = train_sft(model, sft_loader, epochs=30)\n"
   ]
  },
  {
   "cell_type": "code",
   "execution_count": 13,
   "id": "93b0b879",
   "metadata": {},
   "outputs": [],
   "source": [
    "# 生成函数（贪心/采样简化版）\n",
    "@torch.no_grad()\n",
    "def generate_text(model, tokenizer, prompt: str, max_new_tokens=32):\n",
    "    pack = tokenizer.encode_dialog(prompt, \"\")\n",
    "    input_ids = pack[\"input_ids\"].unsqueeze(0).to(device)\n",
    "    attn_mask = pack[\"attention_mask\"].unsqueeze(0).to(device)\n",
    "\n",
    "    # 去掉右侧 PAD\n",
    "    true_len = int(attn_mask.sum(dim=1).item())\n",
    "    input_ids = input_ids[:, :true_len]\n",
    "    attn_mask = attn_mask[:, :true_len]\n",
    "\n",
    "    for i in range(max_new_tokens):\n",
    "        logits = model(input_ids, attention_mask=attn_mask)\n",
    "        next_token = torch.argmax(logits[:, -1, :], dim=-1, keepdim=True)\n",
    "\n",
    "        # import matplotlib.pyplot as plt\n",
    "        # # 将 logits 转换到 cpu 并转为 numpy 数组\n",
    "        # last_logits = logits[0, -1, :].cpu().numpy()\n",
    "        # plt.figure(figsize=(12, 4))\n",
    "        # plt.plot(last_logits)\n",
    "        # plt.title(f\"Logits Distribution for Token {i+1}\")\n",
    "        # plt.xlabel(\"Token ID\")\n",
    "        # plt.ylabel(\"Logit Value\")\n",
    "        # # 标记出最大值的位置\n",
    "        # max_logit_idx = last_logits.argmax()\n",
    "        # max_logit_val = last_logits[max_logit_idx]\n",
    "        # plt.scatter(max_logit_idx, max_logit_val, color='red', zorder=5, label=f'Max Logit at ID {max_logit_idx}')\n",
    "        # plt.legend()\n",
    "        # plt.grid(True)\n",
    "        # plt.show()\n",
    "        # # --- 可视化结束 ---\n",
    "\n",
    "        input_ids = torch.cat([input_ids, next_token], dim=1)\n",
    "        attn_mask = torch.cat([attn_mask, torch.ones_like(next_token)], dim=1)\n",
    "        if next_token.item() == tokenizer.EOS:\n",
    "            break\n",
    "\n",
    "    # decode：去掉 BOS/SEP/EOS，只取回答区间\n",
    "    ids = input_ids[0].tolist()\n",
    "    if tokenizer.SEP in ids:\n",
    "        sep_idx = ids.index(tokenizer.SEP)\n",
    "        ans_ids = ids[sep_idx+1:]\n",
    "    else:\n",
    "        ans_ids = ids\n",
    "    # 去掉 PAD 和 EOS\n",
    "    ans_ids = [i for i in ans_ids if i not in (tokenizer.PAD, tokenizer.EOS)]\n",
    "    # 减 4 还原字节\n",
    "    text = bytes([i-4 for i in ans_ids]).decode(\"utf-8\", errors=\"ignore\")\n",
    "    return text\n"
   ]
  },
  {
   "cell_type": "code",
   "execution_count": 14,
   "id": "6fbec767",
   "metadata": {},
   "outputs": [
    {
     "name": "stdout",
     "output_type": "stream",
     "text": [
      "=== SFT 模型回答 ===\n",
      "Q: What is AI?\n",
      "A: lo tellllololinin te t tolat t \n",
      "\n",
      "Q: What is 1+1?\n",
      "A: als e e e e e e e e e te e e \n",
      "\n",
      "Q: Write a greeting\n",
      "A: lllo te te t te t togy te te \n",
      "\n",
      "Q: What is machine learning?\n",
      "A: le e e  e\n",
      "\n",
      "Q: Write a greeting\n",
      "A: lllo toll to tett toutt t t tte\n",
      "\n"
     ]
    }
   ],
   "source": [
    "# 根据可视化发现，模型会先输出 0（也就是 PAD），然后输出其他\n",
    "# 模型效果\n",
    "test_prompts = [\n",
    "    \"What is AI?\",\n",
    "    \"What is 1+1?\",\n",
    "    \"Write a greeting\",\n",
    "    \"What is machine learning?\",\n",
    "    \"Write a greeting\"\n",
    "]\n",
    "\n",
    "print(\"=== SFT 模型回答 ===\")\n",
    "for p in test_prompts:\n",
    "    ans = generate_text(model, tokenizer, p)\n",
    "    print(f\"Q: {p}\\nA: {ans}\\n\")"
   ]
  },
  {
   "cell_type": "code",
   "execution_count": 15,
   "id": "64cb2d10",
   "metadata": {},
   "outputs": [
    {
     "data": {
      "text/plain": [
       "[65, 110, 115, 119, 101, 114, 58]"
      ]
     },
     "execution_count": 15,
     "metadata": {},
     "output_type": "execute_result"
    }
   ],
   "source": [
    "# 查看 \"Answer:\" 对应的编码\n",
    "text = \"Answer:\"\n",
    "list(text.encode(\"utf-8\", errors=\"replace\"))"
   ]
  },
  {
   "cell_type": "markdown",
   "id": "447bc218",
   "metadata": {},
   "source": [
    "训练过程中，我们使用交叉熵损失，让模型学会在给定指令条件下预测下一个 token。\n",
    "在数据构造时，非回答区间与 PAD 的标签被设为 -100，配合 ignore_index=-100 只在回答区间计算损失；同时 attention_mask 让注意力忽略 PAD 位。随着训练进行，损失应逐步下降，表明模型正在学习指令→回答的条件生成关系。\n",
    "\n",
    "## 3. Stage2：奖励模型 RM\n",
    "\n",
    "奖励模型用于学习人类对模型回答的偏好，为强化学习阶段提供奖励信号。\n",
    "\n",
    "奖励模型的目标是学习人类的偏好判断，即对于同一个指令的多个回答，哪个回答更符合人类偏好。训练数据由人类标注员对模型生成回答的质量进行排名。\n",
    "\n",
    "奖励模型的训练通常使用对比学习框架，通过比较不同回答的相对质量来学习一个标量奖励函数。常用的损失函数是 pairwise ranking loss：\n",
    "\n",
    "$$\n",
    "\\mathcal{L}_{RM} = -\\mathbb{E}_{(x,y_w,y_l)\\sim D}[\\log(\\sigma(r_{\\phi}(x,y_w) - r_{\\phi}(x,y_l)))]\n",
    "$$\n",
    "\n",
    "其中 $y_w$ 是偏好的回答，$y_l$ 是不偏好的回答，$r_{\\phi}$ 是奖励模型。\n",
    "\n",
    "### 3.1 数据准备"
   ]
  },
  {
   "cell_type": "code",
   "execution_count": 16,
   "id": "34496af7",
   "metadata": {},
   "outputs": [
    {
     "data": {
      "text/plain": [
       "4"
      ]
     },
     "execution_count": 16,
     "metadata": {},
     "output_type": "execute_result"
    }
   ],
   "source": [
    "# Cell 2.1 — RM 数据集（pairwise）\n",
    "class RMDataset(Dataset):\n",
    "    def __init__(self, data, tokenizer: SimpleTokenizer):\n",
    "        self.data = data\n",
    "        self.tok = tokenizer\n",
    "\n",
    "    def __len__(self):\n",
    "        return len(self.data)\n",
    "\n",
    "    def __getitem__(self, idx):\n",
    "        item = self.data[idx]\n",
    "        good_pack = self.tok.encode_dialog(item[\"instr\"], item[\"good\"])\n",
    "        bad_pack  = self.tok.encode_dialog(item[\"instr\"], item[\"bad\"])\n",
    "        return {\n",
    "            \"good_input_ids\": good_pack[\"input_ids\"],\n",
    "            \"good_attention_mask\": good_pack[\"attention_mask\"],\n",
    "            \"bad_input_ids\": bad_pack[\"input_ids\"],\n",
    "            \"bad_attention_mask\": bad_pack[\"attention_mask\"],\n",
    "        }\n",
    "\n",
    "def create_rm_dataset():\n",
    "    # return [\n",
    "    #     {\"instr\": \"什么是 AI？\",\n",
    "    #      \"good\": \"AI 是能模拟人类智能的技术，比如语音识别和图像识别。\",\n",
    "    #      \"bad\":  \"AI 就是机器人。\"},\n",
    "    #     {\"instr\": \"1+1 等于几？\",\n",
    "    #      \"good\": \"1+1 的结果是 2。\",\n",
    "    #      \"bad\":  \"1+1 可能等于 3，看情况。\"},\n",
    "    #     {\"instr\": \"写一句问候语\",\n",
    "    #      \"good\": \"你好！很高兴有机会与你交流。\",\n",
    "    #      \"bad\":  \"喂，你好。\"},\n",
    "    #     {\"instr\": \"什么是机器学习？\",\n",
    "    #      \"good\": \"机器学习是人工智能的一个分支，让计算机能从数据中学习并改进。\",\n",
    "    #      \"bad\":  \"机器学习就是教机器读书。\"},\n",
    "    # ]\n",
    "    return [\n",
    "        {\"instr\": \"What is AI?\",\n",
    "         \"good\": \"AI is technology that can simulate human intelligence, such as speech recognition and image recognition.\",\n",
    "         \"bad\":  \"AI is just robots.\"},\n",
    "        {\"instr\": \"What is 1+1?\",\n",
    "         \"good\": \"The result of 1+1 is 2.\",\n",
    "         \"bad\":  \"1+1 might equal 3, depending on the situation.\"},\n",
    "        {\"instr\": \"Write a greeting\",\n",
    "         \"good\": \"Hello! I'm glad to have the opportunity to communicate with you.\",\n",
    "         \"bad\":  \"Hey, hello.\"},\n",
    "        {\"instr\": \"What is machine learning?\",\n",
    "         \"good\": \"Machine learning is a branch of artificial intelligence that enables computers to learn and improve from data.\",\n",
    "         \"bad\":  \"Machine learning is teaching machines to read.\"},\n",
    "    ]\n",
    "\n",
    "rm_data = create_rm_dataset()\n",
    "rm_loader = DataLoader(RMDataset(rm_data, tokenizer), batch_size=4, shuffle=True)\n",
    "len(rm_data)\n"
   ]
  },
  {
   "cell_type": "markdown",
   "id": "3dc33b40",
   "metadata": {},
   "source": [
    "奖励模型需要成对的偏好数据，每个数据点包含一个指令、一个高质量回答和一个低质量回答。这种数据结构允许我们训练模型区分回答的质量差异。\n",
    "\n",
    "### 3.2 奖励模型"
   ]
  },
  {
   "cell_type": "code",
   "execution_count": 17,
   "id": "443ceb60",
   "metadata": {},
   "outputs": [],
   "source": [
    "# 奖励模型（与 SFT 同构 backbone，只在回答区间池化）\n",
    "class RewardModel(nn.Module):\n",
    "    def __init__(self, backbone_cfg, sep_token_id: int):\n",
    "        super().__init__()\n",
    "        self.sep_id = sep_token_id\n",
    "        self.backbone = SimpleTransformerLM(**backbone_cfg)  # 复用结构，不用 lm_head\n",
    "        self.reward_head = nn.Linear(self.backbone.d_model, 1)\n",
    "\n",
    "    @torch.no_grad()\n",
    "    def load_backbone_from_sft(self, sft_state_dict):\n",
    "        # 只加载非 lm_head 参数\n",
    "        state = {k: v for k, v in sft_state_dict.items() if not k.startswith(\"lm_head.\")}\n",
    "        missing, unexpected = self.backbone.load_state_dict(state, strict=False)\n",
    "        return missing, unexpected\n",
    "\n",
    "    def forward(self, input_ids, attention_mask):\n",
    "        B, T = input_ids.shape\n",
    "\n",
    "        # 取得 backbone 隐状态（与 LM 的前向一致，但这里我们只要隐藏层，不需要 logits）\n",
    "        tok = self.backbone.embed(input_ids) * math.sqrt(self.backbone.d_model)\n",
    "        pos_ids = torch.arange(T, device=input_ids.device).unsqueeze(0).expand(B, T)\n",
    "        pos = self.backbone.pos_embed(pos_ids)\n",
    "        x = self.backbone.ln(self.backbone.dropout(tok + pos))\n",
    "        h = self.backbone.transformer(\n",
    "            x,\n",
    "            mask=self.backbone.causal_mask[:T,:T],\n",
    "            src_key_padding_mask=(~attention_mask.bool())\n",
    "        )  # [B,T,H]\n",
    "\n",
    "        # 仅在回答区间池化：pos > SEP 且有效\n",
    "        is_sep = (input_ids == self.sep_id)\n",
    "        sep_idx = torch.where(is_sep.any(dim=1),\n",
    "                              is_sep.float().argmax(dim=1),\n",
    "                              torch.zeros(B, device=input_ids.device, dtype=torch.long))\n",
    "        pos_ids_b = torch.arange(T, device=input_ids.device).unsqueeze(0).expand(B, T)\n",
    "        resp_mask = (pos_ids_b > sep_idx.unsqueeze(1)) & (attention_mask.bool())  # [B,T]\n",
    "\n",
    "        # 若极端截断导致全 0，兜底给最后一个有效位\n",
    "        fallback = (resp_mask.sum(dim=1) == 0)\n",
    "        if fallback.any():\n",
    "            last_valid = attention_mask.size(1) - 1 - torch.flip(attention_mask, dims=[1]).long().argmax(dim=1)\n",
    "            resp_mask[fallback, last_valid[fallback]] = True\n",
    "\n",
    "        m = resp_mask.float().unsqueeze(-1)          # [B,T,1]\n",
    "        pooled = (h * m).sum(dim=1) / m.sum(dim=1).clamp(min=1.0)  # [B,H]\n",
    "\n",
    "        reward = self.reward_head(pooled).squeeze(-1)            # [B]\n",
    "        return reward\n"
   ]
  },
  {
   "cell_type": "markdown",
   "id": "a304e435",
   "metadata": {},
   "source": [
    "奖励模型基于第一阶段训练的 SFT 模型构建，这样可以利用已经学到的指令理解能力。奖励模型在 SFT backbone 的隐藏状态上，对 回答区间（SEP 之后、非 PAD）做平均池化 得到句级表示，再通过一层线性层 reward_head 映射为 标量奖励。\n",
    "\n",
    "### 3.3 RM 训练"
   ]
  },
  {
   "cell_type": "code",
   "execution_count": 18,
   "id": "a719a038",
   "metadata": {},
   "outputs": [
    {
     "name": "stdout",
     "output_type": "stream",
     "text": [
      "[RM] load_from_sft missing: ['lm_head.weight'] | unexpected: []\n",
      "开始 奖励模型(RM) 训练阶段…\n"
     ]
    },
    {
     "name": "stderr",
     "output_type": "stream",
     "text": [
      "[RM] Epoch 1/50: 100%|██████████| 1/1 [00:00<00:00,  2.00it/s, acc=0.25, loss=0.709]\n"
     ]
    },
    {
     "name": "stdout",
     "output_type": "stream",
     "text": [
      "[RM] Epoch 1 平均损失: 0.7093 | Pairwise Acc: 0.250\n"
     ]
    },
    {
     "name": "stderr",
     "output_type": "stream",
     "text": [
      "[RM] Epoch 2/50: 100%|██████████| 1/1 [00:00<00:00, 18.87it/s, acc=0.75, loss=0.66]\n"
     ]
    },
    {
     "name": "stdout",
     "output_type": "stream",
     "text": [
      "[RM] Epoch 2 平均损失: 0.6604 | Pairwise Acc: 0.750\n"
     ]
    },
    {
     "name": "stderr",
     "output_type": "stream",
     "text": [
      "[RM] Epoch 3/50: 100%|██████████| 1/1 [00:00<00:00, 21.28it/s, acc=1, loss=0.617]\n"
     ]
    },
    {
     "name": "stdout",
     "output_type": "stream",
     "text": [
      "[RM] Epoch 3 平均损失: 0.6173 | Pairwise Acc: 1.000\n"
     ]
    },
    {
     "name": "stderr",
     "output_type": "stream",
     "text": [
      "[RM] Epoch 4/50: 100%|██████████| 1/1 [00:00<00:00, 21.74it/s, acc=0.5, loss=0.606]\n"
     ]
    },
    {
     "name": "stdout",
     "output_type": "stream",
     "text": [
      "[RM] Epoch 4 平均损失: 0.6056 | Pairwise Acc: 0.500\n"
     ]
    },
    {
     "name": "stderr",
     "output_type": "stream",
     "text": [
      "[RM] Epoch 5/50: 100%|██████████| 1/1 [00:00<00:00, 22.22it/s, acc=1, loss=0.552]\n"
     ]
    },
    {
     "name": "stdout",
     "output_type": "stream",
     "text": [
      "[RM] Epoch 5 平均损失: 0.5518 | Pairwise Acc: 1.000\n"
     ]
    },
    {
     "name": "stderr",
     "output_type": "stream",
     "text": [
      "[RM] Epoch 6/50: 100%|██████████| 1/1 [00:00<00:00, 22.22it/s, acc=1, loss=0.53]\n"
     ]
    },
    {
     "name": "stdout",
     "output_type": "stream",
     "text": [
      "[RM] Epoch 6 平均损失: 0.5303 | Pairwise Acc: 1.000\n"
     ]
    },
    {
     "name": "stderr",
     "output_type": "stream",
     "text": [
      "[RM] Epoch 7/50: 100%|██████████| 1/1 [00:00<00:00, 22.22it/s, acc=1, loss=0.495]\n"
     ]
    },
    {
     "name": "stdout",
     "output_type": "stream",
     "text": [
      "[RM] Epoch 7 平均损失: 0.4945 | Pairwise Acc: 1.000\n"
     ]
    },
    {
     "name": "stderr",
     "output_type": "stream",
     "text": [
      "[RM] Epoch 8/50: 100%|██████████| 1/1 [00:00<00:00, 38.46it/s, acc=1, loss=0.474]\n"
     ]
    },
    {
     "name": "stdout",
     "output_type": "stream",
     "text": [
      "[RM] Epoch 8 平均损失: 0.4742 | Pairwise Acc: 1.000\n"
     ]
    },
    {
     "name": "stderr",
     "output_type": "stream",
     "text": [
      "[RM] Epoch 9/50: 100%|██████████| 1/1 [00:00<00:00, 58.82it/s, acc=1, loss=0.461]\n"
     ]
    },
    {
     "name": "stdout",
     "output_type": "stream",
     "text": [
      "[RM] Epoch 9 平均损失: 0.4610 | Pairwise Acc: 1.000\n"
     ]
    },
    {
     "name": "stderr",
     "output_type": "stream",
     "text": [
      "[RM] Epoch 10/50: 100%|██████████| 1/1 [00:00<00:00, 52.63it/s, acc=1, loss=0.446]\n"
     ]
    },
    {
     "name": "stdout",
     "output_type": "stream",
     "text": [
      "[RM] Epoch 10 平均损失: 0.4462 | Pairwise Acc: 1.000\n"
     ]
    },
    {
     "name": "stderr",
     "output_type": "stream",
     "text": [
      "[RM] Epoch 11/50: 100%|██████████| 1/1 [00:00<00:00, 55.55it/s, acc=1, loss=0.402]\n"
     ]
    },
    {
     "name": "stdout",
     "output_type": "stream",
     "text": [
      "[RM] Epoch 11 平均损失: 0.4022 | Pairwise Acc: 1.000\n"
     ]
    },
    {
     "name": "stderr",
     "output_type": "stream",
     "text": [
      "[RM] Epoch 12/50: 100%|██████████| 1/1 [00:00<00:00, 58.83it/s, acc=1, loss=0.385]\n"
     ]
    },
    {
     "name": "stdout",
     "output_type": "stream",
     "text": [
      "[RM] Epoch 12 平均损失: 0.3852 | Pairwise Acc: 1.000\n"
     ]
    },
    {
     "name": "stderr",
     "output_type": "stream",
     "text": [
      "[RM] Epoch 13/50: 100%|██████████| 1/1 [00:00<00:00, 52.63it/s, acc=1, loss=0.37]\n"
     ]
    },
    {
     "name": "stdout",
     "output_type": "stream",
     "text": [
      "[RM] Epoch 13 平均损失: 0.3696 | Pairwise Acc: 1.000\n"
     ]
    },
    {
     "name": "stderr",
     "output_type": "stream",
     "text": [
      "[RM] Epoch 14/50: 100%|██████████| 1/1 [00:00<00:00, 40.71it/s, acc=1, loss=0.35]\n"
     ]
    },
    {
     "name": "stdout",
     "output_type": "stream",
     "text": [
      "[RM] Epoch 14 平均损失: 0.3497 | Pairwise Acc: 1.000\n"
     ]
    },
    {
     "name": "stderr",
     "output_type": "stream",
     "text": [
      "[RM] Epoch 15/50: 100%|██████████| 1/1 [00:00<00:00, 47.62it/s, acc=1, loss=0.325]\n"
     ]
    },
    {
     "name": "stdout",
     "output_type": "stream",
     "text": [
      "[RM] Epoch 15 平均损失: 0.3247 | Pairwise Acc: 1.000\n"
     ]
    },
    {
     "name": "stderr",
     "output_type": "stream",
     "text": [
      "[RM] Epoch 16/50: 100%|██████████| 1/1 [00:00<00:00, 55.56it/s, acc=1, loss=0.321]\n"
     ]
    },
    {
     "name": "stdout",
     "output_type": "stream",
     "text": [
      "[RM] Epoch 16 平均损失: 0.3210 | Pairwise Acc: 1.000\n"
     ]
    },
    {
     "name": "stderr",
     "output_type": "stream",
     "text": [
      "[RM] Epoch 17/50: 100%|██████████| 1/1 [00:00<00:00, 52.63it/s, acc=1, loss=0.24]\n"
     ]
    },
    {
     "name": "stdout",
     "output_type": "stream",
     "text": [
      "[RM] Epoch 17 平均损失: 0.2403 | Pairwise Acc: 1.000\n"
     ]
    },
    {
     "name": "stderr",
     "output_type": "stream",
     "text": [
      "[RM] Epoch 18/50: 100%|██████████| 1/1 [00:00<00:00, 58.83it/s, acc=1, loss=0.273]\n"
     ]
    },
    {
     "name": "stdout",
     "output_type": "stream",
     "text": [
      "[RM] Epoch 18 平均损失: 0.2728 | Pairwise Acc: 1.000\n"
     ]
    },
    {
     "name": "stderr",
     "output_type": "stream",
     "text": [
      "[RM] Epoch 19/50: 100%|██████████| 1/1 [00:00<00:00, 55.56it/s, acc=1, loss=0.221]\n"
     ]
    },
    {
     "name": "stdout",
     "output_type": "stream",
     "text": [
      "[RM] Epoch 19 平均损失: 0.2209 | Pairwise Acc: 1.000\n"
     ]
    },
    {
     "name": "stderr",
     "output_type": "stream",
     "text": [
      "[RM] Epoch 20/50: 100%|██████████| 1/1 [00:00<00:00, 52.63it/s, acc=1, loss=0.22]\n"
     ]
    },
    {
     "name": "stdout",
     "output_type": "stream",
     "text": [
      "[RM] Epoch 20 平均损失: 0.2205 | Pairwise Acc: 1.000\n"
     ]
    },
    {
     "name": "stderr",
     "output_type": "stream",
     "text": [
      "[RM] Epoch 21/50: 100%|██████████| 1/1 [00:00<00:00, 55.56it/s, acc=1, loss=0.223]\n"
     ]
    },
    {
     "name": "stdout",
     "output_type": "stream",
     "text": [
      "[RM] Epoch 21 平均损失: 0.2230 | Pairwise Acc: 1.000\n"
     ]
    },
    {
     "name": "stderr",
     "output_type": "stream",
     "text": [
      "[RM] Epoch 22/50: 100%|██████████| 1/1 [00:00<00:00, 55.56it/s, acc=1, loss=0.161]\n"
     ]
    },
    {
     "name": "stdout",
     "output_type": "stream",
     "text": [
      "[RM] Epoch 22 平均损失: 0.1610 | Pairwise Acc: 1.000\n"
     ]
    },
    {
     "name": "stderr",
     "output_type": "stream",
     "text": [
      "[RM] Epoch 23/50: 100%|██████████| 1/1 [00:00<00:00, 41.67it/s, acc=1, loss=0.174]\n"
     ]
    },
    {
     "name": "stdout",
     "output_type": "stream",
     "text": [
      "[RM] Epoch 23 平均损失: 0.1745 | Pairwise Acc: 1.000\n"
     ]
    },
    {
     "name": "stderr",
     "output_type": "stream",
     "text": [
      "[RM] Epoch 24/50: 100%|██████████| 1/1 [00:00<00:00, 58.83it/s, acc=1, loss=0.134]\n"
     ]
    },
    {
     "name": "stdout",
     "output_type": "stream",
     "text": [
      "[RM] Epoch 24 平均损失: 0.1342 | Pairwise Acc: 1.000\n"
     ]
    },
    {
     "name": "stderr",
     "output_type": "stream",
     "text": [
      "[RM] Epoch 25/50: 100%|██████████| 1/1 [00:00<00:00, 52.63it/s, acc=1, loss=0.165]\n"
     ]
    },
    {
     "name": "stdout",
     "output_type": "stream",
     "text": [
      "[RM] Epoch 25 平均损失: 0.1654 | Pairwise Acc: 1.000\n"
     ]
    },
    {
     "name": "stderr",
     "output_type": "stream",
     "text": [
      "[RM] Epoch 26/50: 100%|██████████| 1/1 [00:00<00:00, 52.64it/s, acc=1, loss=0.121]\n"
     ]
    },
    {
     "name": "stdout",
     "output_type": "stream",
     "text": [
      "[RM] Epoch 26 平均损失: 0.1215 | Pairwise Acc: 1.000\n"
     ]
    },
    {
     "name": "stderr",
     "output_type": "stream",
     "text": [
      "[RM] Epoch 27/50: 100%|██████████| 1/1 [00:00<00:00, 52.63it/s, acc=1, loss=0.14]\n"
     ]
    },
    {
     "name": "stdout",
     "output_type": "stream",
     "text": [
      "[RM] Epoch 27 平均损失: 0.1404 | Pairwise Acc: 1.000\n"
     ]
    },
    {
     "name": "stderr",
     "output_type": "stream",
     "text": [
      "[RM] Epoch 28/50: 100%|██████████| 1/1 [00:00<00:00, 51.59it/s, acc=1, loss=0.111]\n"
     ]
    },
    {
     "name": "stdout",
     "output_type": "stream",
     "text": [
      "[RM] Epoch 28 平均损失: 0.1112 | Pairwise Acc: 1.000\n"
     ]
    },
    {
     "name": "stderr",
     "output_type": "stream",
     "text": [
      "[RM] Epoch 29/50: 100%|██████████| 1/1 [00:00<00:00, 50.00it/s, acc=1, loss=0.094]\n"
     ]
    },
    {
     "name": "stdout",
     "output_type": "stream",
     "text": [
      "[RM] Epoch 29 平均损失: 0.0940 | Pairwise Acc: 1.000\n"
     ]
    },
    {
     "name": "stderr",
     "output_type": "stream",
     "text": [
      "[RM] Epoch 30/50: 100%|██████████| 1/1 [00:00<00:00, 50.00it/s, acc=1, loss=0.0884]\n"
     ]
    },
    {
     "name": "stdout",
     "output_type": "stream",
     "text": [
      "[RM] Epoch 30 平均损失: 0.0884 | Pairwise Acc: 1.000\n"
     ]
    },
    {
     "name": "stderr",
     "output_type": "stream",
     "text": [
      "[RM] Epoch 31/50: 100%|██████████| 1/1 [00:00<00:00, 43.48it/s, acc=1, loss=0.0831]\n"
     ]
    },
    {
     "name": "stdout",
     "output_type": "stream",
     "text": [
      "[RM] Epoch 31 平均损失: 0.0831 | Pairwise Acc: 1.000\n"
     ]
    },
    {
     "name": "stderr",
     "output_type": "stream",
     "text": [
      "[RM] Epoch 32/50: 100%|██████████| 1/1 [00:00<00:00, 47.62it/s, acc=1, loss=0.0541]\n"
     ]
    },
    {
     "name": "stdout",
     "output_type": "stream",
     "text": [
      "[RM] Epoch 32 平均损失: 0.0541 | Pairwise Acc: 1.000\n"
     ]
    },
    {
     "name": "stderr",
     "output_type": "stream",
     "text": [
      "[RM] Epoch 33/50: 100%|██████████| 1/1 [00:00<00:00, 55.56it/s, acc=1, loss=0.0608]\n"
     ]
    },
    {
     "name": "stdout",
     "output_type": "stream",
     "text": [
      "[RM] Epoch 33 平均损失: 0.0608 | Pairwise Acc: 1.000\n"
     ]
    },
    {
     "name": "stderr",
     "output_type": "stream",
     "text": [
      "[RM] Epoch 34/50: 100%|██████████| 1/1 [00:00<00:00, 55.56it/s, acc=1, loss=0.0504]\n"
     ]
    },
    {
     "name": "stdout",
     "output_type": "stream",
     "text": [
      "[RM] Epoch 34 平均损失: 0.0504 | Pairwise Acc: 1.000\n"
     ]
    },
    {
     "name": "stderr",
     "output_type": "stream",
     "text": [
      "[RM] Epoch 35/50: 100%|██████████| 1/1 [00:00<00:00, 55.56it/s, acc=1, loss=0.0469]\n"
     ]
    },
    {
     "name": "stdout",
     "output_type": "stream",
     "text": [
      "[RM] Epoch 35 平均损失: 0.0469 | Pairwise Acc: 1.000\n"
     ]
    },
    {
     "name": "stderr",
     "output_type": "stream",
     "text": [
      "[RM] Epoch 36/50: 100%|██████████| 1/1 [00:00<00:00, 55.55it/s, acc=1, loss=0.057]\n"
     ]
    },
    {
     "name": "stdout",
     "output_type": "stream",
     "text": [
      "[RM] Epoch 36 平均损失: 0.0570 | Pairwise Acc: 1.000\n"
     ]
    },
    {
     "name": "stderr",
     "output_type": "stream",
     "text": [
      "[RM] Epoch 37/50: 100%|██████████| 1/1 [00:00<00:00, 55.56it/s, acc=1, loss=0.0272]\n"
     ]
    },
    {
     "name": "stdout",
     "output_type": "stream",
     "text": [
      "[RM] Epoch 37 平均损失: 0.0272 | Pairwise Acc: 1.000\n"
     ]
    },
    {
     "name": "stderr",
     "output_type": "stream",
     "text": [
      "[RM] Epoch 38/50: 100%|██████████| 1/1 [00:00<00:00, 55.54it/s, acc=1, loss=0.0279]\n"
     ]
    },
    {
     "name": "stdout",
     "output_type": "stream",
     "text": [
      "[RM] Epoch 38 平均损失: 0.0279 | Pairwise Acc: 1.000\n"
     ]
    },
    {
     "name": "stderr",
     "output_type": "stream",
     "text": [
      "[RM] Epoch 39/50: 100%|██████████| 1/1 [00:00<00:00, 52.63it/s, acc=1, loss=0.0199]\n"
     ]
    },
    {
     "name": "stdout",
     "output_type": "stream",
     "text": [
      "[RM] Epoch 39 平均损失: 0.0199 | Pairwise Acc: 1.000\n"
     ]
    },
    {
     "name": "stderr",
     "output_type": "stream",
     "text": [
      "[RM] Epoch 40/50: 100%|██████████| 1/1 [00:00<00:00, 58.83it/s, acc=1, loss=0.0187]\n"
     ]
    },
    {
     "name": "stdout",
     "output_type": "stream",
     "text": [
      "[RM] Epoch 40 平均损失: 0.0187 | Pairwise Acc: 1.000\n"
     ]
    },
    {
     "name": "stderr",
     "output_type": "stream",
     "text": [
      "[RM] Epoch 41/50: 100%|██████████| 1/1 [00:00<00:00, 55.56it/s, acc=1, loss=0.0152]\n"
     ]
    },
    {
     "name": "stdout",
     "output_type": "stream",
     "text": [
      "[RM] Epoch 41 平均损失: 0.0152 | Pairwise Acc: 1.000\n"
     ]
    },
    {
     "name": "stderr",
     "output_type": "stream",
     "text": [
      "[RM] Epoch 42/50: 100%|██████████| 1/1 [00:00<00:00, 52.63it/s, acc=1, loss=0.0126]\n"
     ]
    },
    {
     "name": "stdout",
     "output_type": "stream",
     "text": [
      "[RM] Epoch 42 平均损失: 0.0126 | Pairwise Acc: 1.000\n"
     ]
    },
    {
     "name": "stderr",
     "output_type": "stream",
     "text": [
      "[RM] Epoch 43/50: 100%|██████████| 1/1 [00:00<00:00, 52.63it/s, acc=1, loss=0.0101]\n"
     ]
    },
    {
     "name": "stdout",
     "output_type": "stream",
     "text": [
      "[RM] Epoch 43 平均损失: 0.0101 | Pairwise Acc: 1.000\n"
     ]
    },
    {
     "name": "stderr",
     "output_type": "stream",
     "text": [
      "[RM] Epoch 44/50: 100%|██████████| 1/1 [00:00<00:00, 47.62it/s, acc=1, loss=0.0108]\n"
     ]
    },
    {
     "name": "stdout",
     "output_type": "stream",
     "text": [
      "[RM] Epoch 44 平均损失: 0.0108 | Pairwise Acc: 1.000\n"
     ]
    },
    {
     "name": "stderr",
     "output_type": "stream",
     "text": [
      "[RM] Epoch 45/50: 100%|██████████| 1/1 [00:00<00:00, 50.00it/s, acc=1, loss=0.00916]\n"
     ]
    },
    {
     "name": "stdout",
     "output_type": "stream",
     "text": [
      "[RM] Epoch 45 平均损失: 0.0092 | Pairwise Acc: 1.000\n"
     ]
    },
    {
     "name": "stderr",
     "output_type": "stream",
     "text": [
      "[RM] Epoch 46/50: 100%|██████████| 1/1 [00:00<00:00, 43.48it/s, acc=1, loss=0.011]\n"
     ]
    },
    {
     "name": "stdout",
     "output_type": "stream",
     "text": [
      "[RM] Epoch 46 平均损失: 0.0110 | Pairwise Acc: 1.000\n"
     ]
    },
    {
     "name": "stderr",
     "output_type": "stream",
     "text": [
      "[RM] Epoch 47/50: 100%|██████████| 1/1 [00:00<00:00, 58.83it/s, acc=1, loss=0.00793]\n"
     ]
    },
    {
     "name": "stdout",
     "output_type": "stream",
     "text": [
      "[RM] Epoch 47 平均损失: 0.0079 | Pairwise Acc: 1.000\n"
     ]
    },
    {
     "name": "stderr",
     "output_type": "stream",
     "text": [
      "[RM] Epoch 48/50: 100%|██████████| 1/1 [00:00<00:00, 52.64it/s, acc=1, loss=0.00802]\n"
     ]
    },
    {
     "name": "stdout",
     "output_type": "stream",
     "text": [
      "[RM] Epoch 48 平均损失: 0.0080 | Pairwise Acc: 1.000\n"
     ]
    },
    {
     "name": "stderr",
     "output_type": "stream",
     "text": [
      "[RM] Epoch 49/50: 100%|██████████| 1/1 [00:00<00:00, 52.63it/s, acc=1, loss=0.00702]\n"
     ]
    },
    {
     "name": "stdout",
     "output_type": "stream",
     "text": [
      "[RM] Epoch 49 平均损失: 0.0070 | Pairwise Acc: 1.000\n"
     ]
    },
    {
     "name": "stderr",
     "output_type": "stream",
     "text": [
      "[RM] Epoch 50/50: 100%|██████████| 1/1 [00:00<00:00, 55.56it/s, acc=1, loss=0.00864]"
     ]
    },
    {
     "name": "stdout",
     "output_type": "stream",
     "text": [
      "[RM] Epoch 50 平均损失: 0.0086 | Pairwise Acc: 1.000\n"
     ]
    },
    {
     "name": "stderr",
     "output_type": "stream",
     "text": [
      "\n"
     ]
    }
   ],
   "source": [
    "# RM 训练（pairwise）\n",
    "def rm_pairwise_loss(r_good: torch.Tensor, r_bad: torch.Tensor) -> torch.Tensor:\n",
    "    delta = r_good - r_bad  # [B]\n",
    "    # softplus(-Δ) = -log σ(Δ)，更稳\n",
    "    return F.softplus(-delta).mean()\n",
    "\n",
    "def train_reward_model(rm_model, rm_loader, epochs=3, lr=1e-4):\n",
    "    rm_model.train()\n",
    "    opt = optim.Adam(rm_model.parameters(), lr=lr)\n",
    "\n",
    "    for ep in range(epochs):\n",
    "        ep_loss, correct, total = 0.0, 0, 0\n",
    "        pbar = tqdm(rm_loader, desc=f\"[RM] Epoch {ep+1}/{epochs}\")\n",
    "        for batch in pbar:\n",
    "            good_ids = batch[\"good_input_ids\"].to(device)\n",
    "            good_msk = batch[\"good_attention_mask\"].to(device)\n",
    "            bad_ids  = batch[\"bad_input_ids\"].to(device)\n",
    "            bad_msk  = batch[\"bad_attention_mask\"].to(device)\n",
    "            \n",
    "            # 前向\n",
    "            r_good = rm_model(good_ids, good_msk)  # [B]\n",
    "            r_bad  = rm_model(bad_ids,  bad_msk)   # [B]\n",
    "\n",
    "            # 损失\n",
    "            loss = rm_pairwise_loss(r_good, r_bad)\n",
    "\n",
    "            # 反向与更新\n",
    "            opt.zero_grad(set_to_none=True)\n",
    "            loss.backward()\n",
    "            torch.nn.utils.clip_grad_norm_(rm_model.parameters(), 1.0)\n",
    "            opt.step()\n",
    "\n",
    "            # 统计\n",
    "            with torch.no_grad():\n",
    "                correct += int((r_good > r_bad).sum().item())\n",
    "                total   += good_ids.size(0)\n",
    "\n",
    "            ep_loss += float(loss.item())\n",
    "            pbar.set_postfix(loss=float(loss.item()), acc=correct/max(1,total))\n",
    "\n",
    "        print(f\"[RM] Epoch {ep+1} 平均损失: {ep_loss/len(rm_loader):.4f} | \"\n",
    "              f\"Pairwise Acc: {correct/max(1,total):.3f}\")\n",
    "\n",
    "# 构建 RM 并从 SFT 初始化\n",
    "backbone_cfg = dict(\n",
    "    vocab_size=tokenizer.vocab_size,\n",
    "    max_len=128,\n",
    "    d_model=128,\n",
    "    nhead=4,\n",
    "    num_layers=4,\n",
    "    dropout=0.1,\n",
    "    tie_weights=False,  # RM 不需要输出头共享\n",
    "    pad_id=tokenizer.PAD\n",
    ")\n",
    "reward_model = RewardModel(backbone_cfg, sep_token_id=tokenizer.SEP).to(device)\n",
    "missing, unexpected = reward_model.load_backbone_from_sft(model.state_dict())\n",
    "print(\"[RM] load_from_sft missing:\", missing, \"| unexpected:\", unexpected)\n",
    "\n",
    "print(\"开始 奖励模型(RM) 训练阶段…\")\n",
    "train_reward_model(reward_model, rm_loader, epochs=50, lr=1e-4)\n"
   ]
  },
  {
   "cell_type": "markdown",
   "id": "2eb5c066",
   "metadata": {},
   "source": [
    "奖励模型的训练使用对比损失函数，目标是让模型对高质量回答给出更高的奖励值，对低质量回答给出更低的奖励值。这种成对比较的方式能够有效学习人类的偏好。随着训练进行，损失应该下降，表明模型逐渐学会了区分回答质量。\n",
    "\n",
    "## 4. Stage3：PPO 强化学习\n",
    "\n",
    "在 PPO 阶段，我们使用奖励模型提供的奖励信号来进一步优化语言模型，使其生成更符合人类偏好的回答。\n",
    "\n",
    "### 4.1 技术原理\n",
    "\n",
    "PPO（Proximal Policy Optimization）是一种强化学习算法，它通过限制策略更新的幅度来保证训练稳定性。  \n",
    "在 RLHF 中，PPO 的目标是：**让语言模型生成的回答获得更高的奖励模型评分，同时避免策略更新过大而导致崩溃**。\n",
    "\n",
    "核心损失函数为：\n",
    "\n",
    "$$\n",
    "\\mathcal{L}^{PPO} = \\mathbb{E}\\Big[\\min\\big(r_t(\\theta)\\hat{A}_t,\\ \\text{clip}(r_t(\\theta),1-\\epsilon,1+\\epsilon)\\hat{A}_t\\big)\\Big]\n",
    "$$\n",
    "\n",
    "其中：\n",
    "- $r_t(\\theta) = \\frac{\\pi_\\theta(a_t|s_t)}{\\pi_{\\text{old}}(a_t|s_t)}$ 为策略比值  \n",
    "- $\\hat{A}_t$ 是优势估计（本实现使用 GAE 计算，而不是直接用 RM 打分）  \n",
    "- $\\epsilon$ 是裁剪系数\n",
    "\n",
    "此外，我们还引入 **KL penalty**，限制当前策略与参考策略（SFT 模型）的偏移，进一步增强训练稳定性。\n",
    "\n",
    "为了简化实现，这里将奖励 **只分配到生成的最后一步**，前面的 token 奖励为 0。这保证了实现简洁，同时仍能驱动 PPO 学习。\n",
    "\n",
    "### 4.2 PPO 实现\n"
   ]
  },
  {
   "cell_type": "code",
   "execution_count": 19,
   "id": "68cc3097",
   "metadata": {},
   "outputs": [],
   "source": [
    "# ========= PPO =========\n",
    "import math, torch\n",
    "import torch.nn as nn\n",
    "import torch.nn.functional as F\n",
    "import torch.optim as optim\n",
    "from copy import deepcopy\n",
    "from tqdm import tqdm\n",
    "\n",
    "\n",
    "# ---- Policy with value head ----\n",
    "class PolicyWithValue(SimpleTransformerLM):\n",
    "    \"\"\"\n",
    "    在 SimpleTransformerLM 上加一个 value_head，用于估计 V(s_t)。\n",
    "    - forward() 仍旧返回 logits（用于 LM）\n",
    "    - forward_with_value() 同时返回 logits 和逐时刻的 V 值\n",
    "    \"\"\"\n",
    "    def __init__(self, *args, **kwargs):\n",
    "        super().__init__(*args, **kwargs)       # 继承你的 LM（含因果掩码等）\n",
    "        self.value_head = nn.Linear(self.d_model, 1)\n",
    "        # 轻微初始化更稳\n",
    "        nn.init.zeros_(self.value_head.bias)\n",
    "        nn.init.normal_(self.value_head.weight, std=1e-2)\n",
    "\n",
    "    def forward_with_value(self, input_ids, attention_mask=None):\n",
    "        \"\"\"\n",
    "        返回:\n",
    "          - logits: [B,T,V]\n",
    "          - values: [B,T]\n",
    "        \"\"\"\n",
    "        B, T = input_ids.shape\n",
    "        # 1) LM logits\n",
    "        logits = super().forward(input_ids, attention_mask=attention_mask)  # [B,T,V]\n",
    "\n",
    "        # 2) 复用 backbone 计算隐藏状态，再经 value_head\n",
    "        tok = self.embed(input_ids) * math.sqrt(self.d_model)\n",
    "        pos_ids = torch.arange(T, device=input_ids.device).unsqueeze(0).expand(B, T)\n",
    "        pos = self.pos_embed(pos_ids)\n",
    "        x = self.ln(self.dropout(tok + pos))\n",
    "        h = self.transformer(\n",
    "            x,\n",
    "            mask=self.causal_mask[:T, :T],\n",
    "            src_key_padding_mask=(~attention_mask.bool()) if attention_mask is not None else None,\n",
    "        )  # [B,T,H]\n",
    "        values = self.value_head(h).squeeze(-1)  # [B,T]\n",
    "        return logits, values\n",
    "    \n",
    "policy = PolicyWithValue(\n",
    "    vocab_size=tokenizer.vocab_size,\n",
    "    max_len=128,\n",
    "    d_model=128,\n",
    "    nhead=4,\n",
    "    num_layers=4,\n",
    ").to(device)\n",
    "\n",
    "# 构建 reference policy：从已经训练好的 SFT 模型复制\n",
    "ref_policy = deepcopy(policy).eval()\n",
    "for p in ref_policy.parameters():\n",
    "    p.requires_grad = False\n"
   ]
  },
  {
   "cell_type": "code",
   "execution_count": 20,
   "id": "12126a79",
   "metadata": {},
   "outputs": [],
   "source": [
    "# ---- 采样函数 ----\n",
    "@torch.no_grad()\n",
    "def sample_response(policy, prompt_ids, prompt_mask, max_new_tokens=64, temperature=1.0, top_p=0.9):\n",
    "    \"\"\"\n",
    "    返回:\n",
    "      full_ids: [B, T_total]\n",
    "      full_mask: [B, T_total]\n",
    "      gen_mask: [B, T_total]  (生成区为 True)\n",
    "      logp_old: [B, L]        (逐步旧策略 log prob)\n",
    "      values:   [B, L]        (逐步旧策略 V(s_t))\n",
    "    约束:\n",
    "      - 先按 mask 裁右侧 PAD\n",
    "      - 不超过 policy.max_len\n",
    "    \"\"\"\n",
    "    policy.eval()\n",
    "    B = prompt_ids.size(0)\n",
    "    assert B == 1, \"此最小实现按 batch=1 编写；批量扩展很简单，但此处保持清晰。\"\n",
    "\n",
    "    # 1) 去右侧 PAD\n",
    "    true_len = int(prompt_mask.sum(dim=1).item())\n",
    "    input_ids = prompt_ids[:, :true_len].clone()\n",
    "    attn_mask = prompt_mask[:, :true_len].clone()\n",
    "\n",
    "    # 2) 允许生成的步数\n",
    "    room = int(policy.max_len - input_ids.size(1))\n",
    "    if room <= 0:\n",
    "        gen_mask = torch.zeros_like(input_ids, dtype=torch.bool)\n",
    "        empty = torch.zeros(B, 0, device=input_ids.device)\n",
    "        return input_ids, attn_mask, gen_mask, empty, empty\n",
    "    steps = min(max_new_tokens, room)\n",
    "\n",
    "    taken_logp = []\n",
    "    values_seq = []\n",
    "\n",
    "    for _ in range(steps):\n",
    "        logits, values = policy.forward_with_value(input_ids, attention_mask=attn_mask)\n",
    "        last_logits = logits[:, -1, :] / max(1e-8, temperature)\n",
    "        probs = F.softmax(last_logits, dim=-1)\n",
    "\n",
    "        # nucleus (top-p) 采样\n",
    "        sorted_p, sorted_idx = torch.sort(probs, descending=True, dim=-1)\n",
    "        cumsum = torch.cumsum(sorted_p, dim=-1)\n",
    "        cutoff = (cumsum > top_p).float().argmax(dim=-1)\n",
    "        mask = torch.arange(probs.size(-1), device=probs.device).unsqueeze(0) > cutoff.unsqueeze(1)\n",
    "        filtered = sorted_p.masked_fill(mask, 0.0)\n",
    "        filtered = filtered / (filtered.sum(dim=-1, keepdim=True) + 1e-12)\n",
    "        next_sorted_idx = torch.multinomial(filtered, 1)         # [B,1]\n",
    "        next_token = sorted_idx.gather(1, next_sorted_idx)       # [B,1]\n",
    "\n",
    "        # 记录旧策略 logp 与 value\n",
    "        next_logp = torch.log(probs.gather(1, next_token))       # [B,1]\n",
    "        taken_logp.append(next_logp)\n",
    "        values_seq.append(values[:, -1])                         # [B]\n",
    "\n",
    "        # 拼接\n",
    "        input_ids = torch.cat([input_ids, next_token], dim=1)\n",
    "        attn_mask = torch.cat([attn_mask, torch.ones_like(next_token)], dim=1)\n",
    "\n",
    "        # 提前终止（遇到 EOS）\n",
    "        if (next_token.squeeze(1) == tokenizer.EOS).all():\n",
    "            break\n",
    "\n",
    "        if input_ids.size(1) >= policy.max_len:\n",
    "            break\n",
    "\n",
    "    logp_old = torch.cat(taken_logp, dim=1) if taken_logp else torch.zeros(B,0, device=input_ids.device)\n",
    "    values_seq = torch.stack(values_seq, dim=1) if values_seq else torch.zeros(B,0, device=input_ids.device)\n",
    "\n",
    "    gen_mask = torch.zeros_like(input_ids, dtype=torch.bool)\n",
    "    gen_mask[:, true_len:] = True\n",
    "    return input_ids, attn_mask, gen_mask, logp_old, values_seq\n",
    "\n",
    "# ---- 在“生成区”一次性取 log-prob（用整序前向 + 位移）----\n",
    "@torch.no_grad()\n",
    "def selected_logprobs(model, full_ids, full_mask, gen_mask):\n",
    "    \"\"\"\n",
    "    计算“生成区”每一步 token 的 log-prob（在给定完整序列上前向一次）。\n",
    "    返回 [B, L]，与 sample_response 得到的 old_values 对齐。\n",
    "    \"\"\"\n",
    "    logits = model(full_ids, attention_mask=full_mask)           # [B,T,V]\n",
    "    logprobs = F.log_softmax(logits, dim=-1)                     # [B,T,V]\n",
    "\n",
    "    # 概率用于预测位置 t 的 token = full_ids[:, t]，它由 logits[:, t-1] 给出\n",
    "    logp_shift = logprobs[:, :-1, :]                             # [B,T-1,V]\n",
    "    tgt_shift  = full_ids[:, 1:]                                 # [B,T-1]\n",
    "    mask_shift = gen_mask[:, 1:]                                 # [B,T-1] —— 生成 token 的位置\n",
    "\n",
    "    sel = logp_shift.gather(2, tgt_shift.unsqueeze(-1)).squeeze(-1)  # [B,T-1]\n",
    "    # 选择生成区的条目并还原成 [B,L]\n",
    "    out = torch.masked_select(sel, mask_shift)\n",
    "    L = mask_shift.sum(dim=1)                                    # [B]\n",
    "    return out.view(full_ids.size(0), int(L.item()))             # B=1 → [1,L]\n",
    "\n",
    "\n",
    "# ---- GAE（用 old_values）----\n",
    "def compute_gae(rewards, values, gamma=0.99, lam=0.95):\n",
    "    \"\"\"\n",
    "    rewards: [B,L]  这里只在末步非 0（toy）\n",
    "    values:  [B,L]  old_values（来自采样时的 policy）\n",
    "    返回:\n",
    "      adv:     [B,L]\n",
    "      returns: [B,L]  = adv + values\n",
    "    \"\"\"\n",
    "    B, L = rewards.shape\n",
    "    adv = torch.zeros_like(rewards)\n",
    "    lastgaelam = torch.zeros(B, device=rewards.device)\n",
    "\n",
    "    # 末步的 V_{t+1} 取 0（终止）\n",
    "    for t in reversed(range(L)):\n",
    "        v   = values[:, t]\n",
    "        v_n = torch.zeros_like(v) if t == L-1 else values[:, t+1]\n",
    "        r   = rewards[:, t]\n",
    "        delta = r + gamma * v_n - v\n",
    "        lastgaelam = delta + gamma * lam * lastgaelam\n",
    "        adv[:, t] = lastgaelam\n",
    "\n",
    "    returns = adv + values\n",
    "    # 按样本行标准化优势（更稳）\n",
    "    adv = (adv - adv.mean(dim=1, keepdim=True)) / (adv.std(dim=1, keepdim=True) + 1e-8)\n",
    "    return adv, returns"
   ]
  },
  {
   "cell_type": "code",
   "execution_count": 23,
   "id": "6b2e0f7f",
   "metadata": {},
   "outputs": [],
   "source": [
    "# === PPO 训练主循环 ===\n",
    "def ppo_train(\n",
    "    policy, reward_model, ref_policy, tokenizer, prompts,\n",
    "    epochs=2, rollouts_per_epoch=8, max_new_tokens=64,\n",
    "    clip_low=0.8, clip_high=1.2,        # 策略 ratio 裁剪\n",
    "    ppo_epochs=4, vf_clip=0.2,          # value 裁剪\n",
    "    gamma=0.99, lam=0.95,               # GAE 超参\n",
    "    lr=5e-5, ent_coef=0.0, vf_coef=0.5, kl_coef=0.02\n",
    "):\n",
    "    \"\"\"\n",
    "    policy:      当前可训练策略（Actor + Critic）\n",
    "    reward_model:冻结的 RM，打分奖励\n",
    "    ref_policy:  冻结的参考模型，用于 KL penalty\n",
    "    tokenizer:   数据编码器\n",
    "    prompts:     prompt 池\n",
    "    \"\"\"\n",
    "\n",
    "    # 冻结 RM 和 Ref 参数\n",
    "    for p in reward_model.parameters(): p.requires_grad = False\n",
    "    for p in ref_policy.parameters():   p.requires_grad = False\n",
    "\n",
    "    opt = optim.Adam(policy.parameters(), lr=lr)\n",
    "    all_logs = []\n",
    "\n",
    "    # ========= Epoch 外层循环 =========\n",
    "    for ep in range(epochs):\n",
    "        logs = []\n",
    "        pbar = tqdm(range(rollouts_per_epoch), desc=f\"[PPO] Epoch {ep+1}/{epochs}\")\n",
    "\n",
    "        # =============================\n",
    "        # 1) Rollout：采样一条轨迹 (Actor old)\n",
    "        # =============================\n",
    "        for _ in pbar:\n",
    "            instr = prompts[torch.randint(0, len(prompts), (1,)).item()]\n",
    "            pack = tokenizer.encode_dialog(instr, \"\")\n",
    "            prompt_ids = pack[\"input_ids\"].unsqueeze(0).to(device)\n",
    "            prompt_msk = pack[\"attention_mask\"].unsqueeze(0).to(device)\n",
    "\n",
    "            # 1.1 用当前 policy 生成回答（old 策略）\n",
    "            with torch.no_grad():\n",
    "                full_ids, full_msk, gen_mask, logp_old, v_old = sample_response(\n",
    "                    policy, prompt_ids, prompt_msk,\n",
    "                    max_new_tokens=max_new_tokens, temperature=1.0, top_p=0.9\n",
    "                )\n",
    "\n",
    "            # =============================\n",
    "            # 2) 计算奖励 R & KL(old, ref)\n",
    "            # =============================\n",
    "            with torch.no_grad():\n",
    "                # 奖励模型给分 (简化：只在末步给一个标量 R)\n",
    "                R = reward_model(full_ids, full_msk)   # [B]\n",
    "                rewards = torch.zeros_like(logp_old)\n",
    "                rewards[:, -1] = R\n",
    "\n",
    "                # KL penalty: KL(π_old || π_ref)\n",
    "                logp_ref = selected_logprobs(ref_policy, full_ids, full_msk, gen_mask)\n",
    "                approx_kl_ref = (logp_old - logp_ref).mean().clamp_min(0)\n",
    "\n",
    "                # 用 GAE 计算优势\n",
    "                adv, ret = compute_gae(rewards, v_old, gamma=gamma, lam=lam)\n",
    "                adv = adv.detach(); ret = ret.detach()\n",
    "\n",
    "            # 生成序列的长度，用于还原 mask\n",
    "            lengths = gen_mask.sum(dim=1)\n",
    "\n",
    "            # =============================\n",
    "            # 3) PPO 更新 (在同一批数据上重复 ppo_epochs 次)\n",
    "            # =============================\n",
    "            for _upd in range(ppo_epochs):\n",
    "                # (a) 用新策略重新前向 → logp_new, v_new\n",
    "                # print(gen_mask)\n",
    "                logp_new = selected_logprobs(policy, full_ids, full_msk, gen_mask)\n",
    "                # print(logp_new)\n",
    "                ratio    = (logp_new - logp_old).exp()      # π_new / π_old\n",
    "                # print(ratio.shape)\n",
    "                # print(adv.shape)\n",
    "                ratio_c  = ratio.clamp(clip_low, clip_high)\n",
    "\n",
    "                # ---- Actor loss (剪裁版公式) ----\n",
    "                # L_actor = -E[min(ratio*A, ratio_clipped*A)]\n",
    "                L_actor  = -(torch.min(ratio * adv, ratio_c * adv)).mean()\n",
    "\n",
    "                # (b) Critic value clipping\n",
    "                _, values_full = policy.forward_with_value(full_ids, full_msk)\n",
    "                v_new = torch.masked_select(values_full, gen_mask).view_as(v_old)\n",
    "                v_clip = torch.clamp(v_new, v_old - vf_clip, v_old + vf_clip)\n",
    "                L_v_un = (v_new - ret).pow(2)\n",
    "                L_v_cl = (v_clip - ret).pow(2)\n",
    "                L_value = 0.5 * torch.max(L_v_un, L_v_cl).mean()\n",
    "\n",
    "                # (c) 熵 bonus (可选，鼓励探索)\n",
    "                entropy = -(logp_new.exp() * logp_new).mean()\n",
    "\n",
    "                # (d) KL penalty (限制与参考模型漂移)\n",
    "                L_kl = kl_coef * approx_kl_ref\n",
    "\n",
    "                # ---- 总损失 ----\n",
    "                loss = L_actor + vf_coef * L_value - ent_coef * entropy + L_kl\n",
    "\n",
    "                # 反向传播\n",
    "                opt.zero_grad()\n",
    "                loss.backward()\n",
    "                nn.utils.clip_grad_norm_(policy.parameters(), 1.0)\n",
    "                opt.step()\n",
    "\n",
    "            # =============================\n",
    "            # 4) 日志记录\n",
    "            # =============================\n",
    "            logs.append({\n",
    "                \"reward\": float(R.mean()),\n",
    "                \"kl_ref\": float(approx_kl_ref.item()),\n",
    "                \"loss\": float(loss.item()),\n",
    "            })\n",
    "            pbar.set_postfix({\"R\": float(R.mean()), \"KL\": float(approx_kl_ref)})\n",
    "\n",
    "        all_logs.append(logs)\n",
    "\n",
    "    return all_logs\n"
   ]
  },
  {
   "cell_type": "code",
   "execution_count": 24,
   "id": "4332970d",
   "metadata": {},
   "outputs": [
    {
     "name": "stderr",
     "output_type": "stream",
     "text": [
      "[PPO] Epoch 1/2: 100%|██████████| 8/8 [00:01<00:00,  4.21it/s, R=-1.69, KL=0.0363]  \n",
      "[PPO] Epoch 2/2: 100%|██████████| 8/8 [00:01<00:00,  4.42it/s, R=-1.85, KL=0.0324]\n"
     ]
    }
   ],
   "source": [
    "# 运行最小 PPO\n",
    "# prompts = [\"什么是 AI？\", \"1+1 等于几？\", \"写一句问候语\", \"什么是机器学习？\", \"如何保护环境？\"]\n",
    "prompts = [\"What is AI?\", \"What is 1+1?\", \"Write a greeting\", \"What is machine learning?\", \n",
    "           \"How to protect the environment?\"]\n",
    "ppo_logs = ppo_train(\n",
    "    policy,          # 可训练策略 (actor+critic)\n",
    "    reward_model,    # 奖励模型 (冻结)\n",
    "    ref_policy,      # 参考模型 (冻结)\n",
    "    tokenizer,\n",
    "    prompts,\n",
    "    epochs=2,\n",
    "    rollouts_per_epoch=8,\n",
    "    max_new_tokens=32\n",
    ")\n",
    "\n"
   ]
  },
  {
   "cell_type": "code",
   "execution_count": 25,
   "id": "534405c2",
   "metadata": {},
   "outputs": [
    {
     "name": "stdout",
     "output_type": "stream",
     "text": [
      "5\n",
      "优势函数:\n",
      "tensor([[ 0.9801,  0.2000,  0.4423,  0.7085,  1.0000],\n",
      "        [ 0.6623, -0.0326,  0.1886,  0.4323,  0.7000]])\n",
      "\n",
      "回报:\n",
      "tensor([[0.9801, 1.0000, 1.0423, 1.1085, 1.2000],\n",
      "        [0.6623, 0.6674, 0.6886, 0.7323, 0.8000]])\n"
     ]
    }
   ],
   "source": [
    "## 计算 GAE 的例子\n",
    "def get_advantages_and_returns_example():\n",
    "    # 输入数据\n",
    "    values = torch.tensor([\n",
    "        [0.0, 0.8, 0.6, 0.4, 0.2],\n",
    "        [0.0, 0.7, 0.5, 0.3, 0.1]\n",
    "    ])\n",
    "    rewards = torch.tensor([\n",
    "        [0.0, -0.01, -0.02, -0.03, 1.2],\n",
    "        [0.0, -0.005, -0.015, -0.025, 0.8]\n",
    "    ])\n",
    "    action_mask = torch.tensor([\n",
    "        [0, 1, 1, 1, 1],\n",
    "        [0, 1, 1, 1, 1]\n",
    "    ])\n",
    "    gamma = 0.99\n",
    "    lambd = 0.95\n",
    "    \n",
    "    # 应用 mask\n",
    "    values = action_mask * values\n",
    "    rewards = action_mask * rewards\n",
    "    \n",
    "    lastgaelam = torch.zeros(2)  # 为每个序列初始化\n",
    "    advantages_reversed = []\n",
    "    response_length = rewards.size(1)\n",
    "    \n",
    "    for t in reversed(range(response_length)):\n",
    "        nextvalues = values[:, t + 1] if t < response_length - 1 else torch.zeros(2)\n",
    "        delta = rewards[:, t] + gamma * nextvalues - values[:, t]\n",
    "        lastgaelam = delta + gamma * lambd * lastgaelam\n",
    "        advantages_reversed.append(lastgaelam.clone())\n",
    "    print(len(advantages_reversed))\n",
    "    advantages = torch.stack(advantages_reversed[::-1], dim=1)\n",
    "    returns = advantages + values\n",
    "    \n",
    "    print(\"优势函数:\")\n",
    "    print(advantages)\n",
    "    print(\"\\n 回报:\")\n",
    "    print(returns)\n",
    "    \n",
    "    return advantages, returns\n",
    "\n",
    "# 运行示例\n",
    "advantages, returns = get_advantages_and_returns_example()"
   ]
  },
  {
   "cell_type": "markdown",
   "id": "afe035f7",
   "metadata": {},
   "source": [
    "PPO 训练的核心是通过 **奖励模型 (RM)** 提供的反馈来优化语言模型 (Policy)。  \n",
    "- 在训练过程中，我们首先冻结奖励模型参数，保证奖励信号的稳定性。  \n",
    "- 每次迭代中，策略模型根据给定指令生成回答，并由奖励模型打分。  \n",
    "- 然后通过 **PPO 的裁剪目标** 来更新策略，限制参数变化幅度，防止训练不稳定。  \n",
    "\n",
    "随着训练的推进，策略生成的回答逐渐趋向于人类偏好，平均奖励也会提升。\n",
    "\n",
    "\n",
    "## 5. 实验结果与分析\n",
    "\n",
    "通过上述三个阶段的训练，我们完成了一个**简化版 InstructGPT** 的最小实现流程。虽然在数据规模和模型复杂度上大幅缩减，但核心思想完整保留：\n",
    "\n",
    "1. **监督微调 (SFT)**  \n",
    "   模型在少量人工构造的指令-回答对上进行训练，学会了最基本的“指令跟随”能力。\n",
    "\n",
    "2. **奖励模型 (RM)**  \n",
    "   奖励模型通过成对比较的方式学习区分“好回答”和“差回答”，并输出一个标量分数，作为后续强化学习的优化目标。\n",
    "\n",
    "3. **PPO 强化学习**  \n",
    "   策略模型根据 RM 的反馈进行优化。在裁剪机制和 KL penalty 的约束下，模型更新更加稳定，生成结果更符合人类偏好。\n",
    "\n",
    "\n",
    "整体来看，虽然这是一个实验性质的最小实现，但它已经展示了 **RLHF 的三大核心环节**：  \n",
    "- 指令跟随的基础能力 (SFT)  \n",
    "- 人类偏好建模 (RM)  \n",
    "- 强化学习驱动的策略优化 (PPO)  \n",
    "\n",
    "这样的流程为进一步扩展到真实大规模数据和更强大的模型奠定了基础。\n",
    "\n",
    "### 5.1 训练过程可视化"
   ]
  },
  {
   "cell_type": "code",
   "execution_count": 26,
   "id": "eba608a0",
   "metadata": {},
   "outputs": [
    {
     "data": {
      "image/png": "[encoded data removed]",
      "text/plain": [
       "<Figure size 1000x500 with 1 Axes>"
      ]
     },
     "metadata": {},
     "output_type": "display_data"
    }
   ],
   "source": [
    "import matplotlib.pyplot as plt\n",
    "\n",
    "# 绘制训练损失曲线\n",
    "plt.figure(figsize=(10, 5))\n",
    "\n",
    "# SFT 损失曲线\n",
    "plt.plot(range(1, len(sft_losses)+1), sft_losses, marker='o', color='blue')\n",
    "plt.title('SFT loss')\n",
    "plt.xlabel('Epoch')\n",
    "plt.ylabel('Loss')\n",
    "plt.grid(True, linestyle='--', alpha=0.7)\n",
    "\n",
    "plt.tight_layout()\n",
    "plt.show()"
   ]
  },
  {
   "cell_type": "markdown",
   "id": "12d6128e",
   "metadata": {},
   "source": [
    "**预期结果**：SFT 阶段的损失应该呈现稳步下降趋势，表明模型正在学习指令与回答之间的关系。RM 阶段的损失也应该下降，表明奖励模型学会了区分好回答和差回答。PPO 阶段的平均奖励应该上升，表明模型生成的回答越来越符合奖励模型定义的\"好\"标准。\n",
    "\n",
    "### 5.2 模型效果对比\n",
    "\n",
    "我们可以对比 SFT 阶段和 PPO 阶段模型的生成效果："
   ]
  },
  {
   "cell_type": "code",
   "execution_count": 27,
   "id": "0aaea688",
   "metadata": {},
   "outputs": [],
   "source": [
    "# 生成函数（贪心/采样简化版）\n",
    "@torch.no_grad()\n",
    "def generate_text(model, tokenizer, prompt: str, max_new_tokens=32):\n",
    "    pack = tokenizer.encode_dialog(prompt, \"\")\n",
    "    input_ids = pack[\"input_ids\"].unsqueeze(0).to(device)\n",
    "    attn_mask = pack[\"attention_mask\"].unsqueeze(0).to(device)\n",
    "\n",
    "    # 去掉右侧 PAD\n",
    "    true_len = int(attn_mask.sum(dim=1).item())\n",
    "    input_ids = input_ids[:, :true_len]\n",
    "    attn_mask = attn_mask[:, :true_len]\n",
    "\n",
    "    for _ in range(max_new_tokens):\n",
    "        logits = model(input_ids, attention_mask=attn_mask)\n",
    "        next_token = torch.argmax(logits[:, -1, :], dim=-1, keepdim=True)\n",
    "        input_ids = torch.cat([input_ids, next_token], dim=1)\n",
    "        attn_mask = torch.cat([attn_mask, torch.ones_like(next_token)], dim=1)\n",
    "        if next_token.item() == tokenizer.EOS:\n",
    "            break\n",
    "\n",
    "    # decode：去掉 BOS/SEP/EOS，只取回答区间\n",
    "    ids = input_ids[0].tolist()\n",
    "    if tokenizer.SEP in ids:\n",
    "        sep_idx = ids.index(tokenizer.SEP)\n",
    "        ans_ids = ids[sep_idx+1:]\n",
    "    else:\n",
    "        ans_ids = ids\n",
    "    # 去掉 PAD 和 EOS\n",
    "    ans_ids = [i for i in ans_ids if i not in (tokenizer.PAD, tokenizer.EOS)]\n",
    "    # 减 4 还原字节\n",
    "    text = bytes([i-4 for i in ans_ids]).decode(\"utf-8\", errors=\"ignore\")\n",
    "    return text\n"
   ]
  },
  {
   "cell_type": "code",
   "execution_count": 28,
   "id": "906dd5e4",
   "metadata": {},
   "outputs": [
    {
     "name": "stdout",
     "output_type": "stream",
     "text": [
      "=== SFT 模型回答 ===\n",
      "Q: Write a greeting\n",
      "A: llololollinint te togy te t tet\n",
      "\n",
      "=== PPO 优化后策略回答 ===\n",
      "Q: Write a greeting\n",
      "A: \n",
      "\n"
     ]
    }
   ],
   "source": [
    "# 模型效果对比\n",
    "test_prompts = [\n",
    "    \"Write a greeting\"\n",
    "]\n",
    "\n",
    "print(\"=== SFT 模型回答 ===\")\n",
    "for p in test_prompts:\n",
    "    ans = generate_text(model, tokenizer, p)\n",
    "    print(f\"Q: {p}\\nA: {ans}\\n\")\n",
    "\n",
    "print(\"=== PPO 优化后策略回答 ===\")\n",
    "for p in test_prompts:\n",
    "    ans = generate_text(policy, tokenizer, p)\n",
    "    print(f\"Q: {p}\\nA: {ans}\\n\")\n"
   ]
  },
  {
   "cell_type": "markdown",
   "id": "41794438",
   "metadata": {},
   "source": [
    "经过 PPO 优化的模型生成的回答应该比仅经过 SFT 的模型更符合人类偏好。\n",
    "\n",
    "## 6. 总结与思考\n",
    "\n",
    "本实验通过简化实现复现了 InstructGPT 的 RLHF 三阶段流程。虽然实际应用中的实现更加复杂，但核心思想是一致的：\n",
    "\n",
    "1. **监督微调**为模型提供基础的指令跟随能力\n",
    "2. **奖励模型**学习人类偏好并提供量化反馈\n",
    "3. **PPO 强化学习**利用奖励信号进一步优化模型\n",
    "\n",
    "这种方法的优势在于能够将人类的主观偏好有效地传递给模型，使模型生成更加符合人类期望的内容。"
   ]
  }
 ],
 "metadata": {
  "kernelspec": {
   "display_name": "Python 3 (ipykernel)",
   "language": "python",
   "name": "python3"
  },
  "language_info": {
   "codemirror_mode": {
    "name": "ipython",
    "version": 3
   },
   "file_extension": ".py",
   "mimetype": "text/x-python",
   "name": "python",
   "nbconvert_exporter": "python",
   "pygments_lexer": "ipython3",
   "version": "3.11.7"
  }
 },
 "nbformat": 4,
 "nbformat_minor": 5
}
