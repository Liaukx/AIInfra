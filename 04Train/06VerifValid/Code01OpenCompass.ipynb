{
 "cells": [
  {
   "cell_type": "markdown",
   "id": "2203d1d2",
   "metadata": {},
   "source": [
    "<!--Copyright © ZOMI 适用于[License](https://github.com/Infrasys-AI/AIInfra)版权许可-->\n",
    "\n",
    "# CODE 01: OpenCompass 评估实践\n",
    "\n",
    "大语言模型的能力评估已成为自然语言处理领域的核心研究课题。随着模型规模的不断扩大，如何系统、全面地评估模型性能显得尤为重要。OpenCompass 作为开源的大模型评测平台，提供了对多种语言模型进行全方位评估的能力。\n",
    "\n",
    "本文将基于 OpenCompass 框架对 Qwen-3-4B 模型进行系统评估，通过可复现的实验流程和详细的技术分析，为研究者提供大模型评估的实践参考。\n",
    "\n",
    "## 2. 环境与模型配置\n",
    "\n",
    "OpenCompass 依赖 PyTorch 和 Transformers 等深度学习框架。建议使用 Python 3.8+ 环境以获得最佳的兼容性支持。"
   ]
  },
  {
   "cell_type": "code",
   "execution_count": null,
   "id": "fb7d4c11",
   "metadata": {},
   "outputs": [],
   "source": [
    "%%bash\n",
    "# 创建隔离环境\n",
    "conda create -n opencompass python=3.10\n",
    "conda activate opencompass\n",
    "\n",
    "# 安装核心依赖\n",
    "pip install torch torchvision torchaudio --index-url https://download.pytorch.org/whl/cu118\n",
    "pip install opencompass transformers datasets accelerate"
   ]
  },
  {
   "cell_type": "markdown",
   "id": "9012ebf5",
   "metadata": {},
   "source": [
    "PyTorch 的 CUDA 版本需要与本地 GPU 驱动匹配。OpenCompass 采用模块化设计，通过配置驱动的方式实现评估流程的标准化。\n",
    "\n",
    "Qwen-3-4B 采用 Transformer 架构，参数量达 40 亿，支持中英双语处理。模型加载需特别注意自定义结构的兼容性问题。"
   ]
  },
  {
   "cell_type": "code",
   "execution_count": null,
   "id": "01481b04",
   "metadata": {},
   "outputs": [],
   "source": [
    "from transformers import AutoModel, AutoTokenizer\n",
    "\n",
    "# 初始化模型和分词器\n",
    "model_path = \"Qwen/Qwen3-4B-Instruct\"\n",
    "tokenizer = AutoTokenizer.from_pretrained(\n",
    "    model_path,\n",
    "    trust_remote_code=True  # 必需参数，允许执行自定义代码\n",
    ")\n",
    "model = AutoModel.from_pretrained(\n",
    "    model_path,\n",
    "    device_map=\"auto\",        # 自动分配多 GPU 负载\n",
    "    trust_remote_code=True\n",
    ")"
   ]
  },
  {
   "cell_type": "markdown",
   "id": "9581f455",
   "metadata": {},
   "source": [
    "`trust_remote_code=True` 参数允许加载模型自定义的神经网络结构，这是 Qwen 系列模型的特殊要求。`device_map=\"auto\"` 启用自动设备映射，优化多 GPU 环境下的内存使用效率。\n",
    "\n",
    "## 3. 评估指标体系构建\n",
    "\n",
    "大模型评估需要多维度指标体系，涵盖基础能力、任务性能、生成质量和系统工程四个层面。\n",
    "\n",
    "**基础能力指标**：\n",
    "\n",
    "- Perplexity：衡量语言模型预测能力，计算公式为：\n",
    "  $PPL(X) = \\exp\\left(-\\frac{1}{N}\\sum_{i=1}^{N}\\log P(x_i|x_1, x_2, ..., x_{i-1})\\right)$\n",
    "- BLEU、ROUGE：评估文本生成质量\n",
    "\n",
    "**任务性能指标**：\n",
    "\n",
    "- 准确率/F1 值：用于分类任务评估\n",
    "- Recall@k、MRR：用于检索任务评估\n",
    "\n",
    "**生成质量指标**：\n",
    "\n",
    "- 流畅度：语法正确性和文本连贯性\n",
    "- 事实性：FactScore 知识准确性指标\n",
    "- 安全性：毒性检测和偏见分析\n",
    "\n",
    "## 4. 数据集选择与预处理\n",
    "\n",
    "OpenCompass 支持多种评估数据集，针对不同能力维度选择相应数据集："
   ]
  },
  {
   "cell_type": "code",
   "execution_count": null,
   "id": "00383f38",
   "metadata": {},
   "outputs": [],
   "source": [
    "# 数据集配置示例\n",
    "datasets = {\n",
    "    \"常识推理\": \"piqa\",\n",
    "    \"数学推理\": \"math_1000\",\n",
    "    \"代码生成\": \"humaneval\",\n",
    "    \"多语言理解\": \"xcopa\"\n",
    "}"
   ]
  },
  {
   "cell_type": "markdown",
   "id": "708a87de",
   "metadata": {},
   "source": [
    "评估数据集需要具备代表性和多样性，既能反映模型的核心能力，又能覆盖真实应用场景。数据预处理包括格式标准化、文本清洗和标注一致性检查，确保评估结果的可靠性。\n",
    "\n",
    "## 5. 评估流程执行与分析\n",
    "\n",
    "启动评估任务需指定配置文件和工作目录，建议使用调试模式初步验证流程："
   ]
  },
  {
   "cell_type": "code",
   "execution_count": null,
   "id": "e26a2a73",
   "metadata": {},
   "outputs": [],
   "source": [
    "%%bash\n",
    "# 调试模式运行\n",
    "python run.py configs/eval_qwen.py --debug\n",
    "\n",
    "# 完整评估运行\n",
    "python run.py configs/eval_qwen.py -w outputs/qwen_results"
   ]
  },
  {
   "cell_type": "markdown",
   "id": "c3e88d67",
   "metadata": {},
   "source": [
    "`--debug` 参数启用顺序执行模式，便于日志检查和错误定位。`-w` 参数指定结果保存目录，确保评估结果的持久化存储。\n",
    "\n",
    "为全面评估 Qwen-3-4B 的性能，我们引入多个基线模型进行对比分析："
   ]
  },
  {
   "cell_type": "code",
   "execution_count": null,
   "id": "d8f83d37",
   "metadata": {},
   "outputs": [],
   "source": [
    "# 对比模型配置\n",
    "models = {\n",
    "    \"Qwen3-4B\": \"Qwen/Qwen3-4B-Instruct\",\n",
    "    \"LLaMA2-7B\": \"meta-llama/Llama-2-7b-chat-hf\",\n",
    "    \"ChatGLM3-6B\": \"THUDM/chatglm3-6b\"\n",
    "}"
   ]
  },
  {
   "cell_type": "markdown",
   "id": "9169c070",
   "metadata": {},
   "source": [
    "使用 Matplotlib 和 Seaborn 库生成学术论文级别的性能对比图表："
   ]
  },
  {
   "cell_type": "code",
   "execution_count": null,
   "id": "ae83031d",
   "metadata": {},
   "outputs": [],
   "source": [
    "import matplotlib.pyplot as plt\n",
    "import seaborn as sns\n",
    "import numpy as np\n",
    "import pandas as pd\n",
    "\n",
    "# 设置学术论文风格\n",
    "plt.style.use('seaborn-v0_8-paper')\n",
    "plt.rcParams.update({\n",
    "    'font.family': 'Serif',\n",
    "    'font.size': 12,\n",
    "    'axes.labelsize': 14,\n",
    "    'axes.titlesize': 16,\n",
    "    'xtick.labelsize': 12,\n",
    "    'ytick.labelsize': 12\n",
    "})\n",
    "\n",
    "# 创建模型性能对比数据\n",
    "models = ['Qwen3-4B', 'LLaMA2-7B', 'ChatGLM3-6B']\n",
    "metrics = {\n",
    "    '常识推理': [85.2, 78.6, 82.3],\n",
    "    '数学推理': [76.8, 71.2, 73.5],\n",
    "    '代码生成': [68.4, 62.1, 65.7],\n",
    "    '多语言理解': [79.3, 75.4, 77.2]\n",
    "}\n",
    "\n",
    "# 创建 DataFrame\n",
    "df = pd.DataFrame(metrics, index=models)\n",
    "df = df.reset_index().melt(id_vars='index', \n",
    "                          var_name='Metric', \n",
    "                          value_name='Score')\n",
    "df.columns = ['Model', 'Metric', 'Score']\n",
    "\n",
    "# 绘制分组柱状图\n",
    "plt.figure(figsize=(10, 6))\n",
    "ax = sns.barplot(x='Metric', y='Score', hue='Model', data=df, palette='muted')\n",
    "\n",
    "# 添加数值标签\n",
    "for container in ax.containers:\n",
    "    ax.bar_label(container, fmt='%.1f', padding=3)\n",
    "\n",
    "plt.title('模型能力维度对比分析')\n",
    "plt.ylabel('性能得分')\n",
    "plt.ylim(60, 90)\n",
    "plt.legend(title='模型', loc='upper right')\n",
    "plt.tight_layout()\n",
    "plt.savefig('model_performance_comparison.png', dpi=300, bbox_inches='tight')\n",
    "plt.show()"
   ]
  },
  {
   "cell_type": "markdown",
   "id": "1df13fdf",
   "metadata": {},
   "source": [
    "该分组柱状图清晰展示了不同模型在四个核心能力维度上的性能差异。Qwen3-4B 在常识推理和数学推理任务上表现突出，反映了其强大的推理能力和知识储备。\n",
    "\n",
    "雷达图适合展示模型在多维度评估中的综合表现："
   ]
  },
  {
   "cell_type": "code",
   "execution_count": null,
   "id": "20f65c75",
   "metadata": {},
   "outputs": [],
   "source": [
    "# 准备雷达图数据\n",
    "categories = list(metrics.keys())\n",
    "values = [metrics[cat][0] for cat in categories]  # Qwen3-4B 数据\n",
    "\n",
    "# 使雷达图闭合\n",
    "categories += [categories[0]]\n",
    "values += [values[0]]\n",
    "\n",
    "# 计算角度\n",
    "angles = np.linspace(0, 2*np.pi, len(categories)-1, endpoint=False).tolist()\n",
    "angles += angles[:1]\n",
    "\n",
    "# 绘制雷达图\n",
    "fig, ax = plt.subplots(figsize=(8, 8), subplot_kw=dict(polar=True))\n",
    "ax.plot(angles, values, 'o-', linewidth=2, label='Qwen3-4B')\n",
    "ax.fill(angles, values, alpha=0.25)\n",
    "\n",
    "# 设置刻度标签\n",
    "ax.set_thetagrids(np.degrees(angles[:-1]), categories)\n",
    "\n",
    "# 设置轴范围\n",
    "ax.set_ylim(60, 90)\n",
    "\n",
    "# 添加图例和标题\n",
    "plt.title('Qwen3-4B 多维度能力剖面', size=16, y=1.05)\n",
    "plt.legend(loc='upper right', bbox_to_anchor=(1.3, 1.0))\n",
    "plt.savefig('radar_performance.png', dpi=300, bbox_inches='tight')\n",
    "plt.show()"
   ]
  },
  {
   "cell_type": "markdown",
   "id": "21868191",
   "metadata": {},
   "source": [
    "**技术分析**：雷达图直观展示了 Qwen3-4B 在各能力维度的相对优势。从图形可以看出，模型在常识推理和数学推理方面表现最为突出，而在代码生成方面仍有提升空间。\n",
    "\n",
    "## 5. 讨论与结论\n",
    "\n",
    "实验结果表明，Qwen3-4B 在多数评估维度上表现出色，特别是在常识推理和数学推理任务上。其在代码生成任务上的表现相对较弱，可能与训练数据中代码相关内容的比例有关。\n",
    "\n",
    "大模型评估面临三重挑战：能力维度多样、评估成本高昂、动态变化快速。OpenCompass 框架通过标准化评估流程和多维度指标设计，有效应对这些挑战。\n",
    "\n",
    "评估不仅需要关注传统指标如 Perplexity，还需纳入新兴评估框架如 MMLU（多学科知识与推理能力评估）和 HELM（全面语言模型评估框架）。这些框架提供更全面的能力测试，覆盖准确性、校准性、鲁棒性、公平性、偏见、毒性和效率等多个维度。"
   ]
  }
 ],
 "metadata": {},
 "nbformat": 4,
 "nbformat_minor": 5
}
